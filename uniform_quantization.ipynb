{
 "cells": [
  {
   "cell_type": "markdown",
   "metadata": {},
   "source": [
    "# Uniform quantization"
   ]
  },
  {
   "cell_type": "code",
   "execution_count": 3,
   "metadata": {
    "scrolled": true
   },
   "outputs": [
    {
     "data": {
      "text/latex": [
       "$$s(nT_s)~~\\lceil s(nT_s)/\\Delta\\rceil ~~s[n]=\\Delta\\times\\lceil s(nT_s)/\\Delta\\rceil~~e(nT_s)=s(nT_s)-s[n]$$"
      ],
      "text/plain": [
       "<IPython.core.display.Math object>"
      ]
     },
     "metadata": {},
     "output_type": "display_data"
    },
    {
     "name": "stdout",
     "output_type": "stream",
     "text": [
      " -16      -8           -15.5                    -0.5\n",
      " -15      -8           -15.5                    +0.5\n",
      " -14      -7           -13.5                    -0.5\n",
      " -13      -7           -13.5                    +0.5\n",
      " -12      -6           -11.5                    -0.5\n",
      " -11      -6           -11.5                    +0.5\n",
      " -10      -5            -9.5                    -0.5\n",
      "  -9      -5            -9.5                    +0.5\n",
      "  -8      -4            -7.5                    -0.5\n",
      "  -7      -4            -7.5                    +0.5\n",
      "  -6      -3            -5.5                    -0.5\n",
      "  -5      -3            -5.5                    +0.5\n",
      "  -4      -2            -3.5                    -0.5\n",
      "  -3      -2            -3.5                    +0.5\n",
      "  -2      -1            -1.5                    -0.5\n",
      "  -1      -1            -1.5                    +0.5\n",
      "  +0      +0            +0.5                    -0.5\n",
      "  +1      +0            +0.5                    +0.5\n",
      "  +2      +1            +2.5                    -0.5\n",
      "  +3      +1            +2.5                    +0.5\n",
      "  +4      +2            +4.5                    -0.5\n",
      "  +5      +2            +4.5                    +0.5\n",
      "  +6      +3            +6.5                    -0.5\n",
      "  +7      +3            +6.5                    +0.5\n",
      "  +8      +4            +8.5                    -0.5\n",
      "  +9      +4            +8.5                    +0.5\n",
      " +10      +5           +10.5                    -0.5\n",
      " +11      +5           +10.5                    +0.5\n",
      " +12      +6           +12.5                    -0.5\n",
      " +13      +6           +12.5                    +0.5\n",
      " +14      +7           +14.5                    -0.5\n",
      " +15      +7           +14.5                    +0.5\n"
     ]
    },
    {
     "data": {
      "text/latex": [
       "$$\\text{In this example}, \\Delta=2.0.~\\text{Therefore, for the defined input range}~[-16.0,15.0],        \\text{this is a}~q=4\\text{-bits quantizer}~(Q=16).$$"
      ],
      "text/plain": [
       "<IPython.core.display.Math object>"
      ]
     },
     "metadata": {},
     "output_type": "display_data"
    }
   ],
   "source": [
    "from IPython.display import display, Math, Latex\n",
    "display(Math(r's(nT_s)~~\\lceil s(nT_s)/\\Delta\\rceil ~~s[n]=\\Delta\\times\\lceil s(nT_s)/\\Delta\\rceil~~e(nT_s)=s(nT_s)-s[n]'))\n",
    "for i in range(-16,16):\n",
    "    sample = i\n",
    "    quantized_sample = (i//2)*2+0.5\n",
    "    quantization_error = sample - quantized_sample\n",
    "    print(\"{:+4d}     {:+3d}           {:>+5}                    {:>+4}\".\\\n",
    "          format(sample, i//2, quantized_sample, quantization_error))\n",
    "display(Math(r'\\text{In this example}, \\Delta=2.0.~\\text{Therefore, for the defined input range}~[-16.0,15.0],\\\n",
    "        \\text{this is a}~q=4\\text{-bits quantizer}~(Q=16).'))"
   ]
  }
 ],
 "metadata": {
  "kernelspec": {
   "display_name": "Python 3 (ipykernel)",
   "language": "python",
   "name": "python3"
  },
  "language_info": {
   "codemirror_mode": {
    "name": "ipython",
    "version": 3
   },
   "file_extension": ".py",
   "mimetype": "text/x-python",
   "name": "python",
   "nbconvert_exporter": "python",
   "pygments_lexer": "ipython3",
   "version": "3.10.5"
  }
 },
 "nbformat": 4,
 "nbformat_minor": 2
}
