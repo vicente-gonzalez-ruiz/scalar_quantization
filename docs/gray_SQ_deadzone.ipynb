{
 "cells": [
  {
   "cell_type": "markdown",
   "metadata": {},
   "source": [
    "[![Binder](https://mybinder.org/badge_logo.svg)](https://nbviewer.org/github/Sistemas-Multimedia/Sistemas-Multimedia.github.io/blob/master/contents/gray_SQ/gray_SQ_deadzone.ipynb)"
   ]
  },
  {
   "cell_type": "markdown",
   "metadata": {},
   "source": [
    "[![Colab](https://badgen.net/badge/Launch/on%20Google%20Colab/blue?icon=notebook)](https://colab.research.google.com/github/Sistemas-Multimedia/Sistemas-Multimedia.github.io/blob/master/contents/gray_SQ/gray_SQ_deadzone.ipynb)"
   ]
  },
  {
   "cell_type": "markdown",
   "metadata": {},
   "source": [
    "# A Comparison of Scalar Quantizers"
   ]
  },
  {
   "cell_type": "code",
   "execution_count": 1,
   "metadata": {},
   "outputs": [],
   "source": [
    "import os"
   ]
  },
  {
   "cell_type": "code",
   "execution_count": null,
   "metadata": {},
   "outputs": [],
   "source": [
    "try:\n",
    "    import matplotlib\n",
    "    import matplotlib.pyplot as plt\n",
    "    import matplotlib.axes as ax\n",
    "    #plt.rcParams['text.usetex'] = True\n",
    "    #plt.rcParams['text.latex.preamble'] = [r'\\usepackage{amsmath}'] #for \\text command\n",
    "except:\n",
    "    !pip install matplotlib\n",
    "    import matplotlib\n",
    "    import matplotlib.pyplot as plt\n",
    "    import matplotlib.axes as ax\n",
    "    #plt.rcParams['text.usetex'] = True\n",
    "    #plt.rcParams['text.latex.preamble'] = [r'\\usepackage{amsmath}'] #for \\text command\n",
    "%matplotlib inline"
   ]
  },
  {
   "cell_type": "code",
   "execution_count": null,
   "metadata": {},
   "outputs": [],
   "source": [
    "try:\n",
    "    from skimage import io\n",
    "except:\n",
    "    !pip install scikit-image\n",
    "    from skimage import io"
   ]
  },
  {
   "cell_type": "code",
   "execution_count": null,
   "metadata": {},
   "outputs": [],
   "source": [
    "try:\n",
    "    import numpy as np\n",
    "except:\n",
    "    !pip install numpy\n",
    "    import numpy as np"
   ]
  },
  {
   "cell_type": "code",
   "execution_count": null,
   "metadata": {},
   "outputs": [],
   "source": [
    "try:\n",
    "    import pylab\n",
    "except:\n",
    "    !pip install pylab\n",
    "    import pylab"
   ]
  },
  {
   "cell_type": "code",
   "execution_count": null,
   "metadata": {},
   "outputs": [],
   "source": [
    "try:\n",
    "    import gzip\n",
    "except:\n",
    "    !pip install gzip\n",
    "    import gzip"
   ]
  },
  {
   "cell_type": "code",
   "execution_count": null,
   "metadata": {},
   "outputs": [],
   "source": [
    "try:\n",
    "    import sklearn\n",
    "except:\n",
    "    !pip install scikit-learn"
   ]
  },
  {
   "cell_type": "code",
   "execution_count": null,
   "metadata": {},
   "outputs": [],
   "source": [
    "try:\n",
    "    from scalar_quantization.deadzone_quantization import Deadzone_Quantizer as Quantizer                          \n",
    "    from scalar_quantization.deadzone_quantization import name as quantizer_name\n",
    "except:\n",
    "    !pip install \"scalar_quantization @ git+https://github.com/vicente-gonzalez-ruiz/scalar_quantization\"\n",
    "    from scalar_quantization.deadzone_quantization import Deadzone_Quantizer as Quantizer\n",
    "    from scalar_quantization.deadzone_quantization import name as quantizer_name"
   ]
  },
  {
   "cell_type": "code",
   "execution_count": null,
   "metadata": {},
   "outputs": [],
   "source": [
    "try:\n",
    "    from information_theory.information import entropy                          \n",
    "    from information_theory.distortion import RMSE\n",
    "    from information_theory.distortion import SSIM_color as SSIM\n",
    "except:\n",
    "    !pip install \"information_theory @ git+https://github.com/vicente-gonzalez-ruiz/information_theory\"\n",
    "    from information_theory.information import entropy\n",
    "    from information_theory.distortion import RMSE\n",
    "    from information_theory.distortion import SSIM_color as SSIM"
   ]
  },
  {
   "cell_type": "markdown",
   "metadata": {},
   "source": [
    "## Configuration"
   ]
  },
  {
   "cell_type": "code",
   "execution_count": null,
   "metadata": {},
   "outputs": [],
   "source": [
    "fn = \"http://www.hpca.ual.es/~vruiz/images/lena.png\""
   ]
  },
  {
   "cell_type": "markdown",
   "metadata": {},
   "source": [
    "## Deazone quantization\n",
    "\n",
    "**Deadzone quantizers should be applied to signed data centered at 0!**\n",
    "\n",
    "Notice that if the input image is unsigned, does not make sense to use a deadzone quantizer because we need to center the pixel intensity values on 0 by substracting -128 (supposing 8 bits/component). This means that the values close to 128 (the closeness depends on the quantization step size) will be more severely quantized by the deadzone. "
   ]
  },
  {
   "cell_type": "markdown",
   "metadata": {},
   "source": [
    "### Bins and representation levels"
   ]
  },
  {
   "cell_type": "code",
   "execution_count": null,
   "metadata": {},
   "outputs": [],
   "source": [
    "QSS = 64 # Quantization Step Size\n",
    "Q = Quantizer(Q_step=QSS, min_val=-128, max_val=127)\n",
    "print(\"decision_levels =\", Q.get_decision_levels())\n",
    "print(\"representation_levels =\", Q.get_representation_levels())"
   ]
  },
  {
   "cell_type": "markdown",
   "metadata": {},
   "source": [
    "### Quantization indexes and their reconstructions"
   ]
  },
  {
   "cell_type": "code",
   "execution_count": null,
   "metadata": {},
   "outputs": [],
   "source": [
    "Q.encode(Q.get_representation_levels())"
   ]
  },
  {
   "cell_type": "code",
   "execution_count": null,
   "metadata": {},
   "outputs": [],
   "source": [
    "Q.decode(Q.encode(Q.get_representation_levels()))"
   ]
  },
  {
   "cell_type": "markdown",
   "metadata": {},
   "source": [
    "As it can be seen:\n",
    "1. We can produce the output 0 (midtread).\n",
    "2. The representation levels are in the middle point of the bins.\n",
    "3. The deadzone is centered at 0 and the width of the corresponding bin is $2\\Delta$."
   ]
  },
  {
   "cell_type": "markdown",
   "metadata": {},
   "source": [
    "### Read the image and show it"
   ]
  },
  {
   "cell_type": "code",
   "execution_count": null,
   "metadata": {},
   "outputs": [],
   "source": [
    "#img = gray_image.read(fn, 0)\n",
    "img = io.imread(fn)\n",
    "img.dtype"
   ]
  },
  {
   "cell_type": "code",
   "execution_count": null,
   "metadata": {},
   "outputs": [],
   "source": [
    "img.shape"
   ]
  },
  {
   "cell_type": "code",
   "execution_count": null,
   "metadata": {},
   "outputs": [],
   "source": [
    "plt.figure()\n",
    "plt.title(fn)\n",
    "io.imshow(img)\n",
    "plt.show()"
   ]
  },
  {
   "cell_type": "markdown",
   "metadata": {},
   "source": [
    "### Show the histogram"
   ]
  },
  {
   "cell_type": "code",
   "execution_count": null,
   "metadata": {},
   "outputs": [],
   "source": [
    "histogram, bin_edges = np.histogram(img, bins=256, range=(0, 255))\n",
    "\n",
    "plt.figure()\n",
    "plt.title(\"Histogram\")\n",
    "plt.xlabel(\"Intensity\")\n",
    "plt.ylabel(\"Count\")\n",
    "plt.plot(bin_edges[0:-1], histogram)"
   ]
  },
  {
   "cell_type": "markdown",
   "metadata": {},
   "source": [
    "### Shift the pixel intensities\n",
    "\n",
    "The deadzone is centered at input 0 and in the images that we are using the pixel values are always positive, therefore, to see the impact of the deadzone, this should be centered in the histogram. However, notice that depending on the histogram of the image, this step could not be good for increasing the compression ratio because the samples values that fall in the deadzone are going to be quantized with a higher noise (exactly twice). In general, the deadzone should be placed where the SNR (Signal to Noise Ratio) is smaller, and this tend to happen where the values are smaller (supposing that the noise does not depend on the intensity of the signal)."
   ]
  },
  {
   "cell_type": "code",
   "execution_count": null,
   "metadata": {},
   "outputs": [],
   "source": [
    "img_128 = img.astype(np.int16) - 128\n",
    "histogram, bin_edges = np.histogram(img_128, bins=256, range=(-128, 127))\n",
    "\n",
    "plt.figure()\n",
    "plt.title(\"Histogram\")\n",
    "plt.xlabel(\"Intensity\")\n",
    "plt.ylabel(\"Count\")\n",
    "#plt.xlim([0.0, 1.0])  # <- named arguments do not work here\n",
    "plt.plot(bin_edges[0:-1], histogram)  "
   ]
  },
  {
   "cell_type": "markdown",
   "metadata": {},
   "source": [
    "### Visualize a quantization result"
   ]
  },
  {
   "cell_type": "code",
   "execution_count": null,
   "metadata": {},
   "outputs": [],
   "source": [
    "QSS = 16 # Quantization Step Size\n",
    "Q = Quantizer(Q_step=QSS, min_val=-128, max_val=127)\n",
    "y, k = Q.encode_and_decode(img_128)\n",
    "print(\"Used quantization indexes:\", np.unique(k))\n",
    "plt.figure()\n",
    "plt.title(f\"{quantizer_name} $\\\\Delta={QSS}$ (quantization indexes + 128)\")\n",
    "io.imshow(k + 128)\n",
    "plt.show()\n",
    "plt.figure()\n",
    "plt.title(f\"{quantizer_name} $\\\\Delta={QSS}$ (\\\"dequantized\\\" image)\")\n",
    "io.imshow(y.astype(np.int8) + 128)\n",
    "plt.show()\n",
    "#io.show_normalized(k, f\"{quantizer_name} $\\\\Delta={QSS}$ (normalized quantization indexes)\")\n",
    "#io.show()\n",
    "print(\"RMSE =\", RMSE(img, y + 128))\n",
    "print(\"SSIM =\", SSIM(img, y + 128))\n",
    "print(\"entropy =\", entropy(k.flatten()))"
   ]
  },
  {
   "cell_type": "markdown",
   "metadata": {},
   "source": [
    "### RD curve"
   ]
  },
  {
   "cell_type": "code",
   "execution_count": null,
   "metadata": {},
   "outputs": [],
   "source": [
    "def save(img, fn):\n",
    "    io.imsave(fn, img, check_contrast=False)\n",
    "    #subprocess.run(f\"optipng {fn}\", shell=True, capture_output=True)\n",
    "    required_bytes = os.path.getsize(fn)\n",
    "    print(f\"Written {required_bytes} bytes in {fn}\")\n",
    "    return required_bytes\n",
    "\n",
    "def RD_curve(img_128, Q_steps, quantizer):\n",
    "    points = []\n",
    "    for Q_step in Q_steps:\n",
    "        Q = Quantizer(Q_step=Q_step, min_val=-128, max_val=127)\n",
    "        y, k = Q.encode_and_decode(img_128)\n",
    "        k += 128 # Only positive components can be written in a PNG file\n",
    "        k = k.astype(np.uint8)\n",
    "        print(np.max(k), np.min(k), k.dtype)\n",
    "        print(\"\\nQuantization indexes: \", np.unique(k))\n",
    "        rate = save(k, \"/tmp/\" + str(Q_step) + \".png\")*8/(k.shape[0]*k.shape[1])\n",
    "        #rate = compute_BPP(k, \"/tmp/\" + str(Q_step) + '_')\n",
    "        _distortion = RMSE(img_128, y)\n",
    "        points.append((rate, _distortion))\n",
    "        print(f\"q_step={Q_step:>3}, rate={rate:>7} bits/pixel, distortion={_distortion:>6.1f}\")\n",
    "        plt.title(f\"$\\Delta={Q_step}$ max={y.max()} min={y.min()}\")\n",
    "        plt.imshow(y.astype(np.int16) + 128, cmap=plt.cm.gray, vmin=0, vmax=256)\n",
    "        plt.show()\n",
    "    return points\n",
    "\n",
    "def RD_curve_(_img, Q_steps, quantizer):\n",
    "    img = _img.copy().astype(np.int16)\n",
    "    img -= 128\n",
    "    points = []\n",
    "    for Q_step in Q_steps:\n",
    "        Q = quantizer(Q_step=Q_step, min_val=-128, max_val=127)\n",
    "        y, k = Q.quan_dequan(img)\n",
    "        k += 128\n",
    "        print(np.max(k), np.min(k), k.dtype)\n",
    "        print(\"Quantization indexes: \", np.unique(k))\n",
    "        k = k.astype(np.uint8) # Only positive components can be written in a PNG file\n",
    "        rate = gray_image.write(k, \"/tmp/\" + str(Q_step) + '_', 0)*8/(k.shape[0]*k.shape[1])\n",
    "        #rate = compute_BPP(k, \"/tmp/\" + str(Q_step) + '_')\n",
    "        _distortion = RMSE(img, y)\n",
    "        points.append((rate, _distortion))\n",
    "        print(f\"q_step={Q_step:>3}, rate={rate:>7} bits/pixel, distortion={_distortion:>6.1f}\")\n",
    "        plt.title(f\"$\\Delta={Q_step}$ max={y.max()} min={y.min()}\")\n",
    "        plt.imshow(y.astype(np.int16) + 128, cmap=plt.cm.gray, vmin=0, vmax=256)\n",
    "        plt.show()\n",
    "    return points\n",
    "\n",
    "def RD_curve2(_img, Q_steps, quantizer):\n",
    "    img = _img.copy()\n",
    "    points = []\n",
    "    for Q_step in Q_steps:\n",
    "        Q = quantizer(Q_step=Q_step, min_val=0, max_val=255)\n",
    "        y, k = Q.encode_and_decode(img)\n",
    "        print(\"\\nQuantization indexes: \", np.unique(k))\n",
    "        print(\"Reconstruction values: \", np.unique(y))\n",
    "        k = k.astype(np.uint8)\n",
    "        rate = gray_image.write(k, \"/tmp/\" + str(Q_step) + '_', 0)*8/(k.shape[0]*k.shape[1])\n",
    "        #rate = compute_BPP(k, \"/tmp/\" + str(Q_step) + '_')\n",
    "        _distortion = distortion.RMSE(img, y)\n",
    "        points.append((rate, _distortion))\n",
    "        print(f\"q_step={Q_step:>3}, rate={rate:>7} bits/pixel, distortion={_distortion:>6.1f}\")\n",
    "        plt.title(f\"$\\Delta={Q_step}$ max={y.max()} min={y.min()}\")\n",
    "        plt.imshow(y, cmap=plt.cm.gray, vmin=0, vmax=256)\n",
    "        plt.show()\n",
    "    return points"
   ]
  },
  {
   "cell_type": "code",
   "execution_count": null,
   "metadata": {
    "scrolled": false
   },
   "outputs": [],
   "source": [
    "Q_steps = [2**i for i in range(7, -1, -1)] # Quantization steps (simulating bit-plane encoding)\n",
    "#Q_steps = [i for i in range(128, 16, -2)]\n",
    "print(Q_steps)\n",
    "\n",
    "deadzone_RD_points = RD_curve(img_128, Q_steps, Quantizer)\n",
    "#RD_points_ = RD_curve_(img, Q_steps, quantizer)\n",
    "#RD_points2 = RD_curve2(img, Q_steps, quantizer)"
   ]
  },
  {
   "cell_type": "code",
   "execution_count": null,
   "metadata": {},
   "outputs": [],
   "source": [
    "pylab.figure(dpi=150)\n",
    "pylab.plot(*zip(*deadzone_RD_points), c='m', marker='x', label=quantizer_name, linestyle=\"dotted\")\n",
    "pylab.title(f\"{fn}\")\n",
    "pylab.xlabel(\"Bits/Pixel\")\n",
    "pylab.ylabel(\"RMSE\")\n",
    "pylab.legend(loc='upper right')\n",
    "pylab.show()"
   ]
  },
  {
   "cell_type": "markdown",
   "metadata": {},
   "source": [
    "with open(\"gray_deadzone_SQ.txt\", 'w') as f:\n",
    "    for item in RD_points:\n",
    "        f.write(f\"{item[0]}\\t{item[1]}\\n\")"
   ]
  },
  {
   "cell_type": "markdown",
   "metadata": {},
   "source": [
    "## Midrise quantization"
   ]
  },
  {
   "cell_type": "code",
   "execution_count": null,
   "metadata": {},
   "outputs": [],
   "source": [
    "from scalar_quantization.midrise_quantization import Midrise_Quantizer as Quantizer                          "
   ]
  },
  {
   "cell_type": "code",
   "execution_count": null,
   "metadata": {
    "scrolled": true
   },
   "outputs": [],
   "source": [
    "Q_steps = [2**i for i in range(7, -1, -1)] # Quantization steps (simulating bit-plane encoding)\n",
    "#Q_steps = [i for i in range(128, 16, -2)]\n",
    "print(Q_steps)\n",
    "\n",
    "midrise_RD_points = RD_curve(img_128, Q_steps, Quantizer)\n",
    "#RD_points_ = RD_curve_(img, Q_steps, quantizer)\n",
    "#RD_points2 = RD_curve2(img, Q_steps, quantizer)"
   ]
  },
  {
   "cell_type": "code",
   "execution_count": null,
   "metadata": {},
   "outputs": [],
   "source": [
    "pylab.figure(dpi=150)\n",
    "pylab.plot(*zip(*deadzone_RD_points), marker='x', label=\"deadzone\", linestyle=\"dotted\")\n",
    "pylab.plot(*zip(*midrise_RD_points), marker='x', label=\"midrise\", linestyle=\"dotted\")\n",
    "pylab.title(f\"{fn}\")\n",
    "pylab.xlabel(\"Bits/Pixel\")\n",
    "pylab.ylabel(\"RMSE\")\n",
    "pylab.legend(loc='upper right')\n",
    "pylab.show()"
   ]
  },
  {
   "cell_type": "markdown",
   "metadata": {},
   "source": [
    "## Mitdread quantization"
   ]
  },
  {
   "cell_type": "code",
   "execution_count": null,
   "metadata": {},
   "outputs": [],
   "source": [
    "from scalar_quantization.midtread_quantization import Midtread_Quantizer as Quantizer                          "
   ]
  },
  {
   "cell_type": "code",
   "execution_count": null,
   "metadata": {
    "scrolled": true
   },
   "outputs": [],
   "source": [
    "Q_steps = [2**i for i in range(7, -1, -1)] # Quantization steps (simulating bit-plane encoding)\n",
    "#Q_steps = [i for i in range(128, 16, -2)]\n",
    "print(Q_steps)\n",
    "\n",
    "midtread_RD_points = RD_curve(img_128, Q_steps, Quantizer)\n",
    "#RD_points_ = RD_curve_(img, Q_steps, quantizer)\n",
    "#RD_points2 = RD_curve2(img, Q_steps, quantizer)"
   ]
  },
  {
   "cell_type": "code",
   "execution_count": null,
   "metadata": {},
   "outputs": [],
   "source": [
    "pylab.figure(dpi=150)\n",
    "pylab.plot(*zip(*deadzone_RD_points), marker='x', label=\"deadzone\", linestyle=\"dotted\")\n",
    "pylab.plot(*zip(*midrise_RD_points), marker='x', label=\"midrise\", linestyle=\"dotted\")\n",
    "pylab.plot(*zip(*midtread_RD_points), marker='x', label=\"midtread\", linestyle=\"dotted\")\n",
    "pylab.title(f\"{fn}\")\n",
    "pylab.xlabel(\"Bits/Pixel\")\n",
    "pylab.ylabel(\"RMSE\")\n",
    "pylab.legend(loc='upper right')\n",
    "pylab.show()"
   ]
  },
  {
   "cell_type": "markdown",
   "metadata": {},
   "source": [
    "## LloydMax quantization"
   ]
  },
  {
   "cell_type": "code",
   "execution_count": null,
   "metadata": {},
   "outputs": [],
   "source": [
    "from scalar_quantization.LloydMax_quantization import LloydMax_Quantizer as Quantizer                          "
   ]
  },
  {
   "cell_type": "code",
   "execution_count": null,
   "metadata": {},
   "outputs": [],
   "source": [
    "def RD_curve(img, N_bins, Quantizer):\n",
    "    points = []\n",
    "    for n in N_bins:\n",
    "        Q_step = 256//n\n",
    "        k = np.empty_like(img)\n",
    "        y = np.empty_like(img)\n",
    "        required_bytes = 0\n",
    "        for c in range(img.shape[2]):\n",
    "            histogram_img, bin_edges_img = np.histogram(img[..., c], bins=256, range=(0, 256))\n",
    "            histogram_img += 1 # Bins cannot be zeroed\n",
    "            Q = Quantizer(Q_step=Q_step, counts=histogram_img)\n",
    "            Q.fit(img.flatten())\n",
    "            centroids = Q.get_representation_levels()\n",
    "            with gzip.GzipFile(f\"centroids_{c}.gz\", \"w\") as f:\n",
    "                np.save(file=f, arr=centroids)\n",
    "            len_codebook = os.path.getsize(f\"centroids_{c}.gz\")\n",
    "            required_bytes += len_codebook\n",
    "            k[..., c] = Q.encode(img[..., c])\n",
    "            y[..., c] = Q.decode(k[..., c])\n",
    "        rate = save(k, \"/tmp/\" + str(Q_step) + \".png\")*8/(k.shape[0]*k.shape[1])\n",
    "        rate += required_bytes*8/(k.shape[0]*k.shape[1])\n",
    "        distortion = RMSE(img, y)\n",
    "        points.append((rate, distortion))\n",
    "    return points"
   ]
  },
  {
   "cell_type": "code",
   "execution_count": null,
   "metadata": {
    "scrolled": true
   },
   "outputs": [],
   "source": [
    "#Q_steps = [2**i for i in range(7, -1, -1)] # Quantization steps (simulating bit-plane encoding)\n",
    "#Q_steps = [i for i in range(128, 16, -2)]\n",
    "#print(Q_steps)\n",
    "N_bins = [2, 4, 8, 16, 32, 64, 128] #range(2, 128, 1)\n",
    "\n",
    "LloydMax_RD_points = RD_curve(img, N_bins, Quantizer)\n",
    "#RD_points_ = RD_curve_(img, Q_steps, quantizer)\n",
    "#RD_points2 = RD_curve2(img, Q_steps, quantizer)"
   ]
  },
  {
   "cell_type": "code",
   "execution_count": null,
   "metadata": {
    "scrolled": true
   },
   "outputs": [],
   "source": [
    "pylab.figure(dpi=150)\n",
    "pylab.plot(*zip(*deadzone_RD_points), marker='x', label=\"deadzone\", linestyle=\"dotted\")\n",
    "pylab.plot(*zip(*midrise_RD_points), marker='x', label=\"midrise\", linestyle=\"dotted\")\n",
    "pylab.plot(*zip(*midtread_RD_points), marker='x', label=\"midtread\", linestyle=\"dotted\")\n",
    "pylab.plot(*zip(*LloydMax_RD_points), marker='x', label=\"Lloyd-Max\", linestyle=\"dotted\")\n",
    "pylab.title(f\"{fn}\")\n",
    "pylab.xlabel(\"Bits/Pixel\")\n",
    "pylab.ylabel(\"RMSE\")\n",
    "pylab.legend(loc='upper right')\n",
    "pylab.show()"
   ]
  },
  {
   "cell_type": "markdown",
   "metadata": {},
   "source": [
    "## K-Means quantization"
   ]
  },
  {
   "cell_type": "code",
   "execution_count": null,
   "metadata": {},
   "outputs": [],
   "source": [
    "from scalar_quantization.KMeans_quantization import KMeans_Quantizer as Quantizer                          "
   ]
  },
  {
   "cell_type": "code",
   "execution_count": null,
   "metadata": {
    "scrolled": true
   },
   "outputs": [],
   "source": [
    "KMeans_RD_points = RD_curve(img, N_bins, Quantizer)"
   ]
  },
  {
   "cell_type": "code",
   "execution_count": null,
   "metadata": {},
   "outputs": [],
   "source": [
    "pylab.figure(dpi=150)\n",
    "pylab.plot(*zip(*deadzone_RD_points), marker='x', label=\"deadzone\", linestyle=\"dotted\")\n",
    "pylab.plot(*zip(*midrise_RD_points), marker='x', label=\"midrise\", linestyle=\"dotted\")\n",
    "pylab.plot(*zip(*midtread_RD_points), marker='x', label=\"midtread\", linestyle=\"dotted\")\n",
    "pylab.plot(*zip(*LloydMax_RD_points), marker='x', label=\"Lloyd-Max\", linestyle=\"dotted\")\n",
    "pylab.plot(*zip(*KMeans_RD_points), marker='x', label=\"k-means\", linestyle=\"dotted\")\n",
    "pylab.title(f\"{fn}\")\n",
    "pylab.xlabel(\"Bits/Pixel\")\n",
    "pylab.ylabel(\"RMSE\")\n",
    "pylab.legend(loc='upper right')\n",
    "pylab.show()"
   ]
  },
  {
   "cell_type": "markdown",
   "metadata": {},
   "source": [
    "## What happens if we increase the granuality?\n",
    "Let's see the effect of using a finer quantization step (size). Only deadzone."
   ]
  },
  {
   "cell_type": "code",
   "execution_count": null,
   "metadata": {},
   "outputs": [],
   "source": [
    "Q_steps = range(128, 0, -1)"
   ]
  },
  {
   "cell_type": "code",
   "execution_count": null,
   "metadata": {},
   "outputs": [],
   "source": [
    "def _(a, cmap, vmin, vmax):\n",
    "    pass\n",
    "orig_plt_show = plt.show\n",
    "plt.show = print\n",
    "orig_plt_imshow = plt.imshow\n",
    "plt.imshow = _"
   ]
  },
  {
   "cell_type": "code",
   "execution_count": null,
   "metadata": {},
   "outputs": [],
   "source": [
    "RD_points_finer = RD_curve(img_128, Q_steps, Quantizer)"
   ]
  },
  {
   "cell_type": "code",
   "execution_count": null,
   "metadata": {},
   "outputs": [],
   "source": [
    "pylab.figure(dpi=150)\n",
    "pylab.plot(*zip(*deadzone_RD_points), c='m', marker='x', label=f\"Using powers of 2\", linestyle=\"dotted\")\n",
    "pylab.scatter(*zip(*RD_points_finer), c='g', marker='o', label=f\"Using more quantization steps\", s=5)\n",
    "pylab.title(f\"{quantizer_name}, {fn}\")\n",
    "pylab.xlabel(\"Bits/Pixel\")\n",
    "pylab.ylabel(\"RMSE\")\n",
    "pylab.legend(loc='upper right')\n",
    "pylab.show()"
   ]
  },
  {
   "cell_type": "code",
   "execution_count": null,
   "metadata": {},
   "outputs": [],
   "source": [
    "input()"
   ]
  }
 ],
 "metadata": {
  "kernelspec": {
   "display_name": "Python 3 (ipykernel)",
   "language": "python",
   "name": "python3"
  },
  "language_info": {
   "codemirror_mode": {
    "name": "ipython",
    "version": 3
   },
   "file_extension": ".py",
   "mimetype": "text/x-python",
   "name": "python",
   "nbconvert_exporter": "python",
   "pygments_lexer": "ipython3",
   "version": "3.10.8"
  }
 },
 "nbformat": 4,
 "nbformat_minor": 4
}
