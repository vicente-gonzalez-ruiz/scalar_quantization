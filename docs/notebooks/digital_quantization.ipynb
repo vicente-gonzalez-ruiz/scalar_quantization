{
 "cells": [
  {
   "cell_type": "markdown",
   "metadata": {},
   "source": [
    "# Non-adaptive Scalar [Quantization](https://en.wikipedia.org/wiki/Quantization_(signal_processing)) of Digital Signals"
   ]
  },
  {
   "cell_type": "code",
   "execution_count": 1,
   "metadata": {},
   "outputs": [
    {
     "name": "stdout",
     "output_type": "stream",
     "text": [
      "Requirement already satisfied: Pygments in /home/vruiz/enviroments/SM/lib/python3.10/site-packages (2.13.0)\r\n"
     ]
    }
   ],
   "source": [
    "!pip install Pygments\n",
    "%matplotlib inline\n",
    "\n",
    "import math\n",
    "import numpy as np\n",
    "\n",
    "import common\n",
    "#!ln -sf ~/repos/image_IO/logging_config.py ."
   ]
  },
  {
   "cell_type": "markdown",
   "metadata": {},
   "source": [
    "## A.  Uniform Quantization"
   ]
  },
  {
   "cell_type": "markdown",
   "metadata": {},
   "source": [
    "### A.a. [Mid-tread (\"round\") Quantization](https://en.wikipedia.org/wiki/Quantization_(signal_processing)#Example)\n",
    "\n",
    "Mid-tread quantizers are uniform quantizers (the decision levels are spaced evenly) and has zero as one of its output (dequantized) levels.\n",
    "\n",
    "Quantization index:\n",
    "\\begin{equation}\n",
    "k = \\left\\lfloor \\frac{\\left| x \\right|}{\\Delta} + \\frac{1}{2}\\right\\rfloor.\n",
    "\\end{equation}\n",
    "\n",
    "Reconstructed value:\n",
    "\\begin{equation}\n",
    "  y = \\Delta k.\n",
    "\\end{equation}\n",
    "\n",
    "The $k$ index can be also computed using the [round half toward zero](https://en.wikipedia.org/wiki/Rounding#Round_half_towards_zero) (or round to the nearest integer), for which NumPy provides the method [rint()](https://numpy.org/doc/stable/reference/generated/numpy.rint.html)."
   ]
  },
  {
   "cell_type": "code",
   "execution_count": 2,
   "metadata": {},
   "outputs": [
    {
     "name": "stdout",
     "output_type": "stream",
     "text": [
      "Found existing installation: scalar_quantization 0.0.1\r\n",
      "Uninstalling scalar_quantization-0.0.1:\r\n",
      "  Removing file or directory /home/vruiz/enviroments/SM/lib/python3.10/site-packages/scalar_quantization-0.0.1.dist-info/\r\n",
      "  Removing file or directory /home/vruiz/enviroments/SM/lib/python3.10/site-packages/scalar_quantization/\r\n",
      "  Successfully uninstalled scalar_quantization-0.0.1\r\n"
     ]
    }
   ],
   "source": [
    "!pip uninstall -v -y \"scalar_quantization @ git+https://github.com/vicente-gonzalez-ruiz/scalar_quantization\""
   ]
  },
  {
   "cell_type": "code",
   "execution_count": null,
   "metadata": {},
   "outputs": [
    {
     "name": "stdout",
     "output_type": "stream",
     "text": [
      "Collecting scalar_quantization@ git+https://github.com/vicente-gonzalez-ruiz/scalar_quantization\n",
      "  Cloning https://github.com/vicente-gonzalez-ruiz/scalar_quantization to /tmp/pip-install-c1t6tnae/scalar-quantization_0d62c9a871f3438792c4910fd69c2b85\n",
      "  Running command git clone --filter=blob:none --quiet https://github.com/vicente-gonzalez-ruiz/scalar_quantization /tmp/pip-install-c1t6tnae/scalar-quantization_0d62c9a871f3438792c4910fd69c2b85\n",
      "  Resolved https://github.com/vicente-gonzalez-ruiz/scalar_quantization to commit f943363a77145e9b902d0897c12def87aa76beeb\n",
      "  Running command git submodule update --init --recursive -q\n",
      "  Installing build dependencies ... \u001b[?25l/"
     ]
    }
   ],
   "source": [
    "!pip --no-cache-dir install \"scalar_quantization @ git+https://github.com/vicente-gonzalez-ruiz/scalar_quantization\""
   ]
  },
  {
   "cell_type": "code",
   "execution_count": 4,
   "metadata": {},
   "outputs": [
    {
     "name": "stdout",
     "output_type": "stream",
     "text": [
      "\u001b[38;2;186;33;33;03m'''Mid-read (round) scalar quantization.'''\u001b[39;00m\r\n",
      "\r\n",
      "\u001b[38;2;0;128;0;01mimport\u001b[39;00m \u001b[38;2;0;0;255;01mnumpy\u001b[39;00m \u001b[38;2;0;128;0;01mas\u001b[39;00m \u001b[38;2;0;0;255;01mnp\u001b[39;00m\r\n",
      "\u001b[38;2;0;128;0;01mfrom\u001b[39;00m \u001b[38;2;0;0;255;01m.\u001b[39;00m\u001b[38;2;0;0;255;01mquantization\u001b[39;00m \u001b[38;2;0;128;0;01mimport\u001b[39;00m Quantizer\r\n",
      "\r\n",
      "name \u001b[38;2;102;102;102m=\u001b[39m \u001b[38;2;186;33;33m\"\u001b[39m\u001b[38;2;186;33;33mmid-tread\u001b[39m\u001b[38;2;186;33;33m\"\u001b[39m\r\n",
      "\r\n",
      "\u001b[38;2;0;128;0;01mclass\u001b[39;00m \u001b[38;2;0;0;255;01mMidtread_Quantizer\u001b[39;00m(Quantizer):\r\n",
      "\r\n",
      "    \u001b[38;2;0;128;0;01mdef\u001b[39;00m \u001b[38;2;0;0;255mencode\u001b[39m(\u001b[38;2;0;128;0mself\u001b[39m, x):\r\n",
      "        k \u001b[38;2;102;102;102m=\u001b[39m np\u001b[38;2;102;102;102m.\u001b[39mrint(x \u001b[38;2;102;102;102m/\u001b[39m \u001b[38;2;0;128;0mself\u001b[39m\u001b[38;2;102;102;102m.\u001b[39mQ_step)\u001b[38;2;102;102;102m.\u001b[39mastype(np\u001b[38;2;102;102;102m.\u001b[39mint)\r\n",
      "        \u001b[38;2;0;128;0;01mreturn\u001b[39;00m k\r\n",
      "\r\n",
      "    \u001b[38;2;0;128;0;01mdef\u001b[39;00m \u001b[38;2;0;0;255mdecode\u001b[39m(\u001b[38;2;0;128;0mself\u001b[39m, k):\r\n",
      "        y \u001b[38;2;102;102;102m=\u001b[39m \u001b[38;2;0;128;0mself\u001b[39m\u001b[38;2;102;102;102m.\u001b[39mQ_step \u001b[38;2;102;102;102m*\u001b[39m k\r\n",
      "        \u001b[38;2;0;128;0;01mreturn\u001b[39;00m y\r\n"
     ]
    }
   ],
   "source": [
    "!pygmentize ../../src/scalar_quantization/midtread_quantization.py"
   ]
  },
  {
   "cell_type": "code",
   "execution_count": 7,
   "metadata": {},
   "outputs": [],
   "source": [
    "from scalar_quantization.midtread_quantization import Midtread_Quantizer as Quantizer"
   ]
  },
  {
   "cell_type": "code",
   "execution_count": 8,
   "metadata": {},
   "outputs": [
    {
     "data": {
      "image/png": "[encoded data removed]",
      "text/plain": [
       "<Figure size 640x480 with 1 Axes>"
      ]
     },
     "metadata": {},
     "output_type": "display_data"
    }
   ],
   "source": [
    "Q_step = 2\n",
    "Q = Quantizer(Q_step=Q_step, min_val=-128, max_val=127)\n",
    "x = np.linspace(-8, 8, 500) # Input samples\n",
    "y, k = Q.encode_and_decode(x)\n",
    "common.plot(x, y, \"Input Sample\", \"Reconstructed Sample\", \"Mid-tread Quantizer ($\\Delta={}$)\".format(Q_step))"
   ]
  },
  {
   "cell_type": "markdown",
   "metadata": {},
   "source": [
    "The reconstruction levels are in the middle of each bin (this is true for all the non-adaptive quantizers). For example, the values between -1 and 1 ($\\Delta=2$) are reconstructed as 0. The values between 1 and 3, are reconstructed by 2."
   ]
  },
  {
   "cell_type": "markdown",
   "metadata": {},
   "source": [
    "Depending on the resolution of the input (digital) signal $x$ and quantization step size $\\Delta$, the bins can have different size:"
   ]
  },
  {
   "cell_type": "code",
   "execution_count": 9,
   "metadata": {},
   "outputs": [
    {
     "name": "stdout",
     "output_type": "stream",
     "text": [
      "[-7 -6 -5 -4 -3 -2 -1  0  1  2  3  4  5  6  7]\n",
      "[-4 -3 -2 -2 -2 -1  0  0  0  1  2  2  2  3  4]\n",
      "[-8 -6 -4 -4 -4 -2  0  0  0  2  4  4  4  6  8]\n"
     ]
    }
   ],
   "source": [
    "x = np.arange(15)-7\n",
    "y, k = Q.encode_and_decode(x)\n",
    "print(x)\n",
    "print(k)\n",
    "print(y)"
   ]
  },
  {
   "cell_type": "markdown",
   "metadata": {
    "slideshow": {
     "slide_type": "subslide"
    }
   },
   "source": [
    "... but this effect is only noticeable if the resolution of $x$ and the size of $\\Delta$ are comparable."
   ]
  },
  {
   "cell_type": "markdown",
   "metadata": {},
   "source": [
    "### A.b. [Mid-tread Quantization with Deadzone](https://en.wikipedia.org/wiki/Quantization_(signal_processing)#Dead-zone_quantizers)\n",
    "\n",
    "Deadzone quantizers are characterized by using a bin of size $2\\Delta$ centered at the 0 input. See *JPEG2000 Image Compression Fundamentals, Standards and Practice*.\n",
    "\n",
    "Quantization index\n",
    "\\begin{equation}\n",
    "k = \\left\\{ \n",
    "  \\begin{array}{cl}\n",
    "    \\text{sign}(x) \\left\\lfloor \\frac{\\left| x \\right|}{\\Delta}\\right\\rfloor & \\quad \\text{if } \\frac{\\left| x \\right|}{\\Delta} >0 \\\\\n",
    "    0                 & \\quad \\textrm{otherwise},\n",
    "  \\end{array}\n",
    "\\right.\n",
    "\\end{equation}\n",
    "which can be computed efficiently in NumPy by simply converting the floating point representation of $x/\\Delta$ to an integer using the [astype()](https://numpy.org/doc/stable/reference/generated/numpy.ndarray.astype.html) method.\n",
    "Reconstructed value\n",
    "\n",
    "\\begin{equation}\n",
    "y = \\left\\{ \n",
    "  \\begin{array}{cl}\n",
    "    0                                          & \\quad \\text{if } k=0 \\\\\n",
    "    \\text{sign}(k) (\\left| k \\right|-0.5)\\Delta & \\quad \\text{if } k\\ne 0 \n",
    "  \\end{array}\n",
    "\\right.\n",
    "\\end{equation}\n",
    "\n",
    "Using the same simplification, the second equation boils down to\n",
    "\\begin{equation}\n",
    "  y = \\Delta k.\n",
    "\\end{equation}\n"
   ]
  },
  {
   "cell_type": "code",
   "execution_count": 11,
   "metadata": {},
   "outputs": [
    {
     "name": "stdout",
     "output_type": "stream",
     "text": [
      "\u001b[38;2;186;33;33;03m'''Uniform Scalar Deadzone Quantization.'''\u001b[39;00m\r\n",
      "\r\n",
      "\u001b[38;2;0;128;0;01mimport\u001b[39;00m \u001b[38;2;0;0;255;01mnumpy\u001b[39;00m \u001b[38;2;0;128;0;01mas\u001b[39;00m \u001b[38;2;0;0;255;01mnp\u001b[39;00m\r\n",
      "\u001b[38;2;0;128;0;01mfrom\u001b[39;00m \u001b[38;2;0;0;255;01m.\u001b[39;00m\u001b[38;2;0;0;255;01mquantization\u001b[39;00m \u001b[38;2;0;128;0;01mimport\u001b[39;00m Quantizer\r\n",
      "\r\n",
      "name \u001b[38;2;102;102;102m=\u001b[39m \u001b[38;2;186;33;33m\"\u001b[39m\u001b[38;2;186;33;33mdead-zone\u001b[39m\u001b[38;2;186;33;33m\"\u001b[39m\r\n",
      "\r\n",
      "\u001b[38;2;0;128;0;01mclass\u001b[39;00m \u001b[38;2;0;0;255;01mDeadzone_Quantizer\u001b[39;00m(Quantizer):\r\n",
      "    \r\n",
      "    \u001b[38;2;0;128;0;01mdef\u001b[39;00m \u001b[38;2;0;0;255mencode\u001b[39m(\u001b[38;2;0;128;0mself\u001b[39m, x):\r\n",
      "        k \u001b[38;2;102;102;102m=\u001b[39m (x \u001b[38;2;102;102;102m/\u001b[39m \u001b[38;2;0;128;0mself\u001b[39m\u001b[38;2;102;102;102m.\u001b[39mQ_step)\u001b[38;2;102;102;102m.\u001b[39mastype(np\u001b[38;2;102;102;102m.\u001b[39mint)\r\n",
      "        \u001b[38;2;0;128;0;01mreturn\u001b[39;00m k\r\n",
      "\r\n",
      "    \u001b[38;2;0;128;0;01mdef\u001b[39;00m \u001b[38;2;0;0;255mdecode\u001b[39m(\u001b[38;2;0;128;0mself\u001b[39m, k):\r\n",
      "        y \u001b[38;2;102;102;102m=\u001b[39m np\u001b[38;2;102;102;102m.\u001b[39mwhere(k \u001b[38;2;102;102;102m<\u001b[39m \u001b[38;2;102;102;102m0\u001b[39m, \u001b[38;2;0;128;0mself\u001b[39m\u001b[38;2;102;102;102m.\u001b[39mQ_step \u001b[38;2;102;102;102m*\u001b[39m (k \u001b[38;2;102;102;102m-\u001b[39m \u001b[38;2;102;102;102m0.5\u001b[39m), k)\r\n",
      "        y \u001b[38;2;102;102;102m=\u001b[39m np\u001b[38;2;102;102;102m.\u001b[39mwhere(k \u001b[38;2;102;102;102m>\u001b[39m \u001b[38;2;102;102;102m0\u001b[39m, \u001b[38;2;0;128;0mself\u001b[39m\u001b[38;2;102;102;102m.\u001b[39mQ_step \u001b[38;2;102;102;102m*\u001b[39m (k \u001b[38;2;102;102;102m+\u001b[39m \u001b[38;2;102;102;102m0.5\u001b[39m), y)\r\n",
      "        \u001b[38;2;61;123;123;03m#y = self.Q_step * k\u001b[39;00m\r\n",
      "        \u001b[38;2;0;128;0;01mreturn\u001b[39;00m y\r\n"
     ]
    }
   ],
   "source": [
    "!pygmentize ../../src/scalar_quantization/deadzone_quantization.py\n",
    "from scalar_quantization.deadzone_quantization import Deadzone_Quantizer as Quantizer"
   ]
  },
  {
   "cell_type": "code",
   "execution_count": 12,
   "metadata": {},
   "outputs": [
    {
     "data": {
      "image/png": "[encoded data removed]",
      "text/plain": [
       "<Figure size 640x480 with 1 Axes>"
      ]
     },
     "metadata": {},
     "output_type": "display_data"
    }
   ],
   "source": [
    "Q_step = 2\n",
    "Q = Quantizer(Q_step=Q_step, min_val=-128, max_val=127)\n",
    "x = np.linspace(-8, 8, 500) # Input samples\n",
    "y, k = Q.encode_and_decode(x)\n",
    "common.plot(x, y, \"Input Sample\", \"Reconstructed Sample\", \"Mid-tread (with Deadzone) Quantizer ($\\Delta={}$)\".format(Q_step))"
   ]
  },
  {
   "cell_type": "code",
   "execution_count": 13,
   "metadata": {},
   "outputs": [
    {
     "name": "stdout",
     "output_type": "stream",
     "text": [
      "[-7 -6 -5 -4 -3 -2 -1  0  1  2  3  4  5  6  7]\n",
      "[-3 -3 -2 -2 -1 -1  0  0  0  1  1  2  2  3  3]\n",
      "[-7. -7. -5. -5. -3. -3.  0.  0.  0.  3.  3.  5.  5.  7.  7.]\n"
     ]
    }
   ],
   "source": [
    "x = np.arange(15)-7\n",
    "y, k = Q.encode_and_decode(x)\n",
    "print(x)\n",
    "print(k)\n",
    "print(y)"
   ]
  },
  {
   "cell_type": "markdown",
   "metadata": {},
   "source": [
    "### A.c. [Mid-rise (\"truncation\") Quantization](https://en.wikipedia.org/wiki/Quantization_(signal_processing)#Mid-riser_and_mid-tread_uniform_quantizers)\n",
    "\n",
    "Mid-rise quantizers do not have zero as one of its representation levels (in fact, at 0, the output is $\\Delta/2$).\n",
    "\n",
    "Quantization index\n",
    "\\begin{equation}\n",
    "  k=\\Big\\lfloor \\frac{x}{\\Delta}\\Big\\rfloor.\n",
    "\\end{equation}\n",
    "\n",
    "Reconstructed value\n",
    "\\begin{equation}\n",
    "  y = \\Delta \\Big(k + \\frac{1}{2}\\Big).\n",
    "\\end{equation}"
   ]
  },
  {
   "cell_type": "code",
   "execution_count": 14,
   "metadata": {},
   "outputs": [
    {
     "name": "stdout",
     "output_type": "stream",
     "text": [
      "\u001b[38;2;186;33;33;03m'''Mid-rise scalar quantization.'''\u001b[39;00m\r\n",
      "\r\n",
      "\u001b[38;2;0;128;0;01mimport\u001b[39;00m \u001b[38;2;0;0;255;01mnumpy\u001b[39;00m \u001b[38;2;0;128;0;01mas\u001b[39;00m \u001b[38;2;0;0;255;01mnp\u001b[39;00m\r\n",
      "\u001b[38;2;0;128;0;01mfrom\u001b[39;00m \u001b[38;2;0;0;255;01m.\u001b[39;00m\u001b[38;2;0;0;255;01mquantization\u001b[39;00m \u001b[38;2;0;128;0;01mimport\u001b[39;00m Quantizer\r\n",
      "\r\n",
      "name \u001b[38;2;102;102;102m=\u001b[39m \u001b[38;2;186;33;33m\"\u001b[39m\u001b[38;2;186;33;33mmid-rise\u001b[39m\u001b[38;2;186;33;33m\"\u001b[39m\r\n",
      "\r\n",
      "\u001b[38;2;0;128;0;01mclass\u001b[39;00m \u001b[38;2;0;0;255;01mMidrise_Quantizer\u001b[39;00m(Quantizer):\r\n",
      "        \r\n",
      "    \u001b[38;2;0;128;0;01mdef\u001b[39;00m \u001b[38;2;0;0;255mencode\u001b[39m(\u001b[38;2;0;128;0mself\u001b[39m, x):\r\n",
      "        k \u001b[38;2;102;102;102m=\u001b[39m np\u001b[38;2;102;102;102m.\u001b[39mfloor(x \u001b[38;2;102;102;102m/\u001b[39m \u001b[38;2;0;128;0mself\u001b[39m\u001b[38;2;102;102;102m.\u001b[39mQ_step)\u001b[38;2;102;102;102m.\u001b[39mastype(np\u001b[38;2;102;102;102m.\u001b[39mint)\r\n",
      "        \u001b[38;2;0;128;0;01mreturn\u001b[39;00m k\r\n",
      "\r\n",
      "    \u001b[38;2;0;128;0;01mdef\u001b[39;00m \u001b[38;2;0;0;255mdecode\u001b[39m(\u001b[38;2;0;128;0mself\u001b[39m, k):\r\n",
      "        y \u001b[38;2;102;102;102m=\u001b[39m \u001b[38;2;0;128;0mself\u001b[39m\u001b[38;2;102;102;102m.\u001b[39mQ_step \u001b[38;2;102;102;102m*\u001b[39m (k \u001b[38;2;102;102;102m+\u001b[39m \u001b[38;2;102;102;102m0.5\u001b[39m)\r\n",
      "        \u001b[38;2;0;128;0;01mreturn\u001b[39;00m y\r\n",
      "\r\n",
      "\u001b[38;2;0;128;0;01mclass\u001b[39;00m \u001b[38;2;0;0;255;01mMidrise_Quantizer2\u001b[39;00m(Quantizer):\r\n",
      "    \u001b[38;2;0;128;0;01mdef\u001b[39;00m \u001b[38;2;0;0;255m__init__\u001b[39m(\u001b[38;2;0;128;0mself\u001b[39m, Q_step, min_val\u001b[38;2;102;102;102m=\u001b[39m\u001b[38;2;102;102;102m0\u001b[39m, max_val\u001b[38;2;102;102;102m=\u001b[39m\u001b[38;2;102;102;102m255\u001b[39m):\r\n",
      "        \u001b[38;2;0;128;0msuper\u001b[39m()\u001b[38;2;102;102;102m.\u001b[39m\u001b[38;2;0;0;255m__init__\u001b[39m(Q_step, min_val, max_val)\r\n",
      "        N_clusters \u001b[38;2;102;102;102m=\u001b[39m (\u001b[38;2;0;128;0mself\u001b[39m\u001b[38;2;102;102;102m.\u001b[39mmax_val \u001b[38;2;102;102;102m+\u001b[39m \u001b[38;2;102;102;102m1\u001b[39m \u001b[38;2;102;102;102m-\u001b[39m \u001b[38;2;0;128;0mself\u001b[39m\u001b[38;2;102;102;102m.\u001b[39mmin_val) \u001b[38;2;102;102;102m/\u001b[39m\u001b[38;2;102;102;102m/\u001b[39m Q_step\r\n",
      "        \u001b[38;2;61;123;123;03m#self.decision_levels = np.linspace(min_val, max_val + 1, N_clusters + 1)\u001b[39;00m\r\n",
      "        \u001b[38;2;0;128;0mself\u001b[39m\u001b[38;2;102;102;102m.\u001b[39mcentroids \u001b[38;2;102;102;102m=\u001b[39m \u001b[38;2;102;102;102m0.5\u001b[39m \u001b[38;2;102;102;102m*\u001b[39m (\u001b[38;2;0;128;0mself\u001b[39m\u001b[38;2;102;102;102m.\u001b[39mdecision_levels[\u001b[38;2;102;102;102m1\u001b[39m:] \u001b[38;2;102;102;102m+\u001b[39m \u001b[38;2;0;128;0mself\u001b[39m\u001b[38;2;102;102;102m.\u001b[39mdecision_levels[:\u001b[38;2;102;102;102m-\u001b[39m\u001b[38;2;102;102;102m1\u001b[39m])  \u001b[38;2;61;123;123;03m# mean\u001b[39;00m\r\n",
      "\r\n",
      "    \u001b[38;2;0;128;0;01mdef\u001b[39;00m \u001b[38;2;0;0;255mquantize\u001b[39m(\u001b[38;2;0;128;0mself\u001b[39m, x):\r\n",
      "        k \u001b[38;2;102;102;102m=\u001b[39m np\u001b[38;2;102;102;102m.\u001b[39msearchsorted(\u001b[38;2;0;128;0mself\u001b[39m\u001b[38;2;102;102;102m.\u001b[39mdecision_levels, x) \u001b[38;2;102;102;102m-\u001b[39m \u001b[38;2;102;102;102m1\u001b[39m\r\n",
      "        \u001b[38;2;0;128;0;01mreturn\u001b[39;00m k\r\n",
      "\r\n",
      "    \u001b[38;2;0;128;0;01mdef\u001b[39;00m \u001b[38;2;0;0;255mdequantize\u001b[39m(\u001b[38;2;0;128;0mself\u001b[39m, k):\r\n",
      "        y \u001b[38;2;102;102;102m=\u001b[39m \u001b[38;2;0;128;0mself\u001b[39m\u001b[38;2;102;102;102m.\u001b[39mcentroids[k]\r\n",
      "        \u001b[38;2;0;128;0;01mreturn\u001b[39;00m y\r\n"
     ]
    }
   ],
   "source": [
    "!pygmentize ../../src/scalar_quantization/midrise_quantization.py\n",
    "from scalar_quantization.midrise_quantization import Midrise_Quantizer as Quantizer"
   ]
  },
  {
   "cell_type": "code",
   "execution_count": 15,
   "metadata": {},
   "outputs": [
    {
     "data": {
      "image/png": "[encoded data removed]",
      "text/plain": [
       "<Figure size 640x480 with 1 Axes>"
      ]
     },
     "metadata": {},
     "output_type": "display_data"
    }
   ],
   "source": [
    "Q_step = 2\n",
    "Q = Quantizer(Q_step=Q_step, min_val=-128, max_val=127)\n",
    "x = np.linspace(-8, 8, 500) # Input samples\n",
    "y, k = Q.encode_and_decode(x)\n",
    "common.plot(x, y, \"Input Sample\", \"Reconstructed Sample\", \"Mid-rise Quantizer ($\\Delta={}$)\".format(Q_step))"
   ]
  },
  {
   "cell_type": "code",
   "execution_count": 16,
   "metadata": {},
   "outputs": [
    {
     "name": "stdout",
     "output_type": "stream",
     "text": [
      "[-7 -6 -5 -4 -3 -2 -1  0  1  2  3  4  5  6  7]\n",
      "[-4 -3 -3 -2 -2 -1 -1  0  0  1  1  2  2  3  3]\n",
      "[-7. -5. -5. -3. -3. -1. -1.  1.  1.  3.  3.  5.  5.  7.  7.]\n"
     ]
    }
   ],
   "source": [
    "x = np.arange(15)-7\n",
    "y, k = Q.encode_and_decode(x)\n",
    "print(x)\n",
    "print(k)\n",
    "print(y)"
   ]
  },
  {
   "cell_type": "markdown",
   "metadata": {},
   "source": [
    "## B. [Non Uniform Quantization](https://nptel.ac.in/content/storage2/courses/117104069/chapter_5/5_5.html)"
   ]
  },
  {
   "cell_type": "markdown",
   "metadata": {},
   "source": [
    "### B.a. [Companded (COMpressed + exPANDED)](https://en.wikipedia.org/wiki/Companding) Quantization\n",
    "\n",
    "The bins are smaller at the input 0 and viceversa. This can be interesing if most of the samples are small (in absolute value), because we will minimize the quantization error."
   ]
  },
  {
   "cell_type": "markdown",
   "metadata": {},
   "source": [
    "#### B.a.1. [$\\mu$-Law](https://en.wikipedia.org/wiki/%CE%9C-law_algorithm) Companded  Quantization\n",
    "\n",
    "Compressor\n",
    "\\begin{equation}\n",
    "C(x) = \\text{sgn}(x) \\frac{\\ln(1+ \\mu |x|)}{\\ln(1+\\mu)}, ~~~~-1 \\leq x \\leq 1,\n",
    "\\end{equation}\n",
    "shere $\\mu=255$ in most implementations.\n",
    "\n",
    "Expander:\n",
    "\\begin{equation}\n",
    "C^{-1}(y) = \\text{sgn}(y) (1 / \\mu ) ((1 + \\mu)^{|y|}- 1),~~~~-1 \\leq y \\leq 1.\n",
    "\\end{equation}"
   ]
  },
  {
   "cell_type": "code",
   "execution_count": 17,
   "metadata": {},
   "outputs": [
    {
     "name": "stdout",
     "output_type": "stream",
     "text": [
      "\u001b[38;2;186;33;33;03m'''Companded (using mu-law) scalar quantization.'''\u001b[39;00m\r\n",
      "\r\n",
      "\u001b[38;2;0;128;0;01mimport\u001b[39;00m \u001b[38;2;0;0;255;01mnumpy\u001b[39;00m \u001b[38;2;0;128;0;01mas\u001b[39;00m \u001b[38;2;0;0;255;01mnp\u001b[39;00m\r\n",
      "\u001b[38;2;0;128;0;01mfrom\u001b[39;00m \u001b[38;2;0;0;255;01m.\u001b[39;00m\u001b[38;2;0;0;255;01mquantization\u001b[39;00m \u001b[38;2;0;128;0;01mimport\u001b[39;00m Quantizer\r\n",
      "\u001b[38;2;0;128;0;01mimport\u001b[39;00m \u001b[38;2;0;0;255;01mdeadzone_quantization\u001b[39;00m \u001b[38;2;0;128;0;01mas\u001b[39;00m \u001b[38;2;0;0;255;01mdeadzone\u001b[39;00m\r\n",
      "\r\n",
      "name \u001b[38;2;102;102;102m=\u001b[39m \u001b[38;2;186;33;33m\"\u001b[39m\u001b[38;2;186;33;33mcompanded\u001b[39m\u001b[38;2;186;33;33m\"\u001b[39m\r\n",
      "\r\n",
      "\u001b[38;2;0;128;0;01mclass\u001b[39;00m \u001b[38;2;0;0;255;01mCompanded_Quantizer\u001b[39;00m(deadzone\u001b[38;2;102;102;102m.\u001b[39mDeadzone_Quantizer):\r\n",
      "\r\n",
      "    \u001b[38;2;0;128;0;01mdef\u001b[39;00m \u001b[38;2;0;0;255mmuLaw_compress\u001b[39m(\u001b[38;2;0;128;0mself\u001b[39m, x, mu):\r\n",
      "        \u001b[38;2;0;128;0;01mreturn\u001b[39;00m np\u001b[38;2;102;102;102m.\u001b[39mlog(\u001b[38;2;102;102;102m1\u001b[39m\u001b[38;2;102;102;102m+\u001b[39mmu\u001b[38;2;102;102;102m*\u001b[39mnp\u001b[38;2;102;102;102m.\u001b[39mabs(x))\u001b[38;2;102;102;102m/\u001b[39mnp\u001b[38;2;102;102;102m.\u001b[39mlog(\u001b[38;2;102;102;102m1\u001b[39m\u001b[38;2;102;102;102m+\u001b[39mmu)\u001b[38;2;102;102;102m*\u001b[39mnp\u001b[38;2;102;102;102m.\u001b[39msign(x)\r\n",
      "\r\n",
      "    \u001b[38;2;0;128;0;01mdef\u001b[39;00m \u001b[38;2;0;0;255mmuLaw_expand\u001b[39m(\u001b[38;2;0;128;0mself\u001b[39m, y, mu):\r\n",
      "        \u001b[38;2;0;128;0;01mreturn\u001b[39;00m (\u001b[38;2;102;102;102m1\u001b[39m\u001b[38;2;102;102;102m/\u001b[39mmu)\u001b[38;2;102;102;102m*\u001b[39m(((\u001b[38;2;102;102;102m1\u001b[39m\u001b[38;2;102;102;102m+\u001b[39mmu)\u001b[38;2;102;102;102m*\u001b[39m\u001b[38;2;102;102;102m*\u001b[39mnp\u001b[38;2;102;102;102m.\u001b[39mabs(y))\u001b[38;2;102;102;102m-\u001b[39m\u001b[38;2;102;102;102m1\u001b[39m)\u001b[38;2;102;102;102m*\u001b[39mnp\u001b[38;2;102;102;102m.\u001b[39msign(y)\r\n",
      "\r\n",
      "    \u001b[38;2;0;128;0;01mdef\u001b[39;00m \u001b[38;2;0;0;255mencode\u001b[39m(\u001b[38;2;0;128;0mself\u001b[39m, x):\r\n",
      "        \u001b[38;2;186;33;33;03m'''Companded mu-law deadzone quantizer'''\u001b[39;00m\r\n",
      "        mu \u001b[38;2;102;102;102m=\u001b[39m \u001b[38;2;102;102;102m255\u001b[39m\r\n",
      "        x_compressed \u001b[38;2;102;102;102m=\u001b[39m (\u001b[38;2;102;102;102m32768\u001b[39m\u001b[38;2;102;102;102m*\u001b[39m(\u001b[38;2;0;128;0mself\u001b[39m\u001b[38;2;102;102;102m.\u001b[39mmuLaw_compress(x\u001b[38;2;102;102;102m/\u001b[39m\u001b[38;2;102;102;102m32768\u001b[39m, mu)))\r\n",
      "        k \u001b[38;2;102;102;102m=\u001b[39m \u001b[38;2;0;128;0msuper\u001b[39m()\u001b[38;2;102;102;102m.\u001b[39mencode(x_compressed)\u001b[38;2;102;102;102m.\u001b[39mastype(np\u001b[38;2;102;102;102m.\u001b[39mint16) \u001b[38;2;61;123;123;03m# Ojo, sobra astype\u001b[39;00m\r\n",
      "        \u001b[38;2;0;128;0;01mreturn\u001b[39;00m k\r\n",
      "\r\n",
      "    \u001b[38;2;0;128;0;01mdef\u001b[39;00m \u001b[38;2;0;0;255mdecode\u001b[39m(\u001b[38;2;0;128;0mself\u001b[39m, k):\r\n",
      "        \u001b[38;2;186;33;33;03m'''Companded mu-law deadzone dequantizer'''\u001b[39;00m\r\n",
      "        mu \u001b[38;2;102;102;102m=\u001b[39m \u001b[38;2;102;102;102m255\u001b[39m\r\n",
      "        z_compressed \u001b[38;2;102;102;102m=\u001b[39m \u001b[38;2;0;128;0msuper\u001b[39m()\u001b[38;2;102;102;102m.\u001b[39mdecode(k)\r\n",
      "        y \u001b[38;2;102;102;102m=\u001b[39m np\u001b[38;2;102;102;102m.\u001b[39mround(\u001b[38;2;102;102;102m32768\u001b[39m\u001b[38;2;102;102;102m*\u001b[39m\u001b[38;2;0;128;0mself\u001b[39m\u001b[38;2;102;102;102m.\u001b[39mmuLaw_expand(z_compressed\u001b[38;2;102;102;102m/\u001b[39m\u001b[38;2;102;102;102m32768\u001b[39m, mu))\u001b[38;2;102;102;102m.\u001b[39mastype(np\u001b[38;2;102;102;102m.\u001b[39mint16) \u001b[38;2;61;123;123;03m# Ojo, lo mismo sobra el astype\u001b[39;00m\r\n",
      "        \u001b[38;2;0;128;0;01mreturn\u001b[39;00m y\r\n"
     ]
    },
    {
     "ename": "ModuleNotFoundError",
     "evalue": "No module named 'deadzone_quantization'",
     "output_type": "error",
     "traceback": [
      "\u001b[0;31m---------------------------------------------------------------------------\u001b[0m",
      "\u001b[0;31mModuleNotFoundError\u001b[0m                       Traceback (most recent call last)",
      "Cell \u001b[0;32mIn [17], line 2\u001b[0m\n\u001b[1;32m      1\u001b[0m get_ipython()\u001b[38;5;241m.\u001b[39msystem(\u001b[38;5;124m'\u001b[39m\u001b[38;5;124mpygmentize ../../src/scalar_quantization/companded_quantization.py\u001b[39m\u001b[38;5;124m'\u001b[39m)\n\u001b[0;32m----> 2\u001b[0m \u001b[38;5;28;01mfrom\u001b[39;00m \u001b[38;5;21;01mscalar_quantization\u001b[39;00m\u001b[38;5;21;01m.\u001b[39;00m\u001b[38;5;21;01mcompanded_quantization\u001b[39;00m \u001b[38;5;28;01mimport\u001b[39;00m Companded_Quantizer \u001b[38;5;28;01mas\u001b[39;00m Quantizer\n",
      "File \u001b[0;32m~/enviroments/SM/lib/python3.10/site-packages/scalar_quantization/companded_quantization.py:5\u001b[0m\n\u001b[1;32m      3\u001b[0m \u001b[38;5;28;01mimport\u001b[39;00m \u001b[38;5;21;01mnumpy\u001b[39;00m \u001b[38;5;28;01mas\u001b[39;00m \u001b[38;5;21;01mnp\u001b[39;00m\n\u001b[1;32m      4\u001b[0m \u001b[38;5;28;01mfrom\u001b[39;00m \u001b[38;5;21;01m.\u001b[39;00m\u001b[38;5;21;01mquantization\u001b[39;00m \u001b[38;5;28;01mimport\u001b[39;00m Quantizer\n\u001b[0;32m----> 5\u001b[0m \u001b[38;5;28;01mimport\u001b[39;00m \u001b[38;5;21;01mdeadzone_quantization\u001b[39;00m \u001b[38;5;28;01mas\u001b[39;00m \u001b[38;5;21;01mdeadzone\u001b[39;00m\n\u001b[1;32m      7\u001b[0m name \u001b[38;5;241m=\u001b[39m \u001b[38;5;124m\"\u001b[39m\u001b[38;5;124mcompanded\u001b[39m\u001b[38;5;124m\"\u001b[39m\n\u001b[1;32m      9\u001b[0m \u001b[38;5;28;01mclass\u001b[39;00m \u001b[38;5;21;01mCompanded_Quantizer\u001b[39;00m(deadzone\u001b[38;5;241m.\u001b[39mDeadzone_Quantizer):\n",
      "\u001b[0;31mModuleNotFoundError\u001b[0m: No module named 'deadzone_quantization'"
     ]
    }
   ],
   "source": [
    "!pygmentize ../../src/scalar_quantization/companded_quantization.py\n",
    "from scalar_quantization.companded_quantization import Companded_Quantizer as Quantizer"
   ]
  },
  {
   "cell_type": "code",
   "execution_count": null,
   "metadata": {},
   "outputs": [],
   "source": [
    "x = np.linspace(-1, 1, 500)\n",
    "Q = companded.Companded_Quantizer(Q_step=Q_step, min_val=-128, max_val=127)\n",
    "\n",
    "mu = 255\n",
    "y = Q.muLaw_compress(x, mu)\n",
    "common.plot(x, y, \"Input\", \"Output\", \"$\\mu$-law Compressor ($\\mu={}$)\".format(mu))"
   ]
  },
  {
   "cell_type": "code",
   "execution_count": null,
   "metadata": {},
   "outputs": [],
   "source": [
    "x = np.linspace(-1, 1, 500)\n",
    "\n",
    "mu = 255\n",
    "y = Q.muLaw_expand(x, mu)\n",
    "common.plot(x, y, \"Input\", \"Output\", \"$\\mu$-law Expander ($\\mu={}$)\".format(mu))"
   ]
  },
  {
   "cell_type": "code",
   "execution_count": null,
   "metadata": {},
   "outputs": [],
   "source": [
    "mu = 255\n",
    "x = np.linspace(-1, 1, 500)\n",
    "y = Q.muLaw_compress(x, mu)\n",
    "x_recons = Q.muLaw_expand(y, mu)\n",
    "common.plot(x, x_recons, \"Input\", \"Output\", \"Expansion(Compression(Input))\".format(mu))"
   ]
  },
  {
   "cell_type": "markdown",
   "metadata": {},
   "source": [
    "After these definitions, we define the quantization index\n",
    "\\begin{equation}\n",
    "  k = Q\\big(C(x)\\big),\n",
    "\\end{equation}\n",
    "where $C$ is the compression function and $Q$ is a dead-zone quantizer. \n",
    "\n",
    "Reconstruction value\n",
    "\\begin{equation}\n",
    "  y = C^{-1}\\big(Q^{-1}(k)\\big),\n",
    "\\end{equation}\n",
    "where $Q^{-1}$ stands for the dead-zone dequantizer and $C^{-1}$ for the expander function."
   ]
  },
  {
   "cell_type": "code",
   "execution_count": null,
   "metadata": {},
   "outputs": [],
   "source": [
    "Q_step = 1024\n",
    "min_val = -32767\n",
    "max_val = 32767\n",
    "x = np.linspace(min_val, max_val, 500)\n",
    "Q = companded.Companded_Quantizer(Q_step=Q_step, min_val=min_val, max_val=max_val)\n",
    "y, k = Q.encode_and_decode(x)\n",
    "common.plot(x, y, \"Input Sample\", \"Reconstructed Sample\", \"Companded Dead-zone $\\mu$-Law Quantizer ($\\mu={}, \\Delta={}$)\".format(mu, Q_step))"
   ]
  },
  {
   "cell_type": "markdown",
   "metadata": {},
   "source": [
    "### A.c. [Dead-zone Quantization](https://en.wikipedia.org/wiki/Quantization_(signal_processing)#Dead-zone_quantizers)\n",
    "\n",
    "See *JPEG2000 Image Compression Fundamentals, Standards and Practice*.\n",
    "\n",
    "Quantization index\n",
    "\\begin{equation}\n",
    "k = \\left\\{ \n",
    "  \\begin{array}{cl}\n",
    "    \\text{sign}(x) \\left\\lfloor \\frac{\\left| x \\right|}{\\Delta}\\right\\rfloor & \\quad \\text{if } \\frac{\\left| x \\right|}{\\Delta} >0 \\\\\n",
    "    0                 & \\quad \\textrm{otherwise},\n",
    "  \\end{array}\n",
    "\\right.\n",
    "\\end{equation}\n",
    "which can be computed efficiently in NumPy by simply converting the floating point representation of $x/\\Delta$ to an integer using the [astype()](https://numpy.org/doc/stable/reference/generated/numpy.ndarray.astype.html) method.\n",
    "Reconstructed value\n",
    "\n",
    "\\begin{equation}\n",
    "y = \\left\\{ \n",
    "  \\begin{array}{cl}\n",
    "    0                                          & \\quad \\text{if } k=0 \\\\\n",
    "    \\text{sign}(k) (\\left| k \\right|-0.5)\\Delta & \\quad \\text{if } k\\ne 0 \n",
    "  \\end{array}\n",
    "\\right.\n",
    "\\end{equation}\n",
    "\n",
    "Using the same simplification, the second equation boils down to\n",
    "\\begin{equation}\n",
    "  y = \\Delta k.\n",
    "\\end{equation}\n"
   ]
  },
  {
   "cell_type": "code",
   "execution_count": null,
   "metadata": {},
   "outputs": [],
   "source": [
    "!!pygmentize deadzone_quantization.py\n",
    "import deadzone_quantization as deadzone"
   ]
  },
  {
   "cell_type": "code",
   "execution_count": null,
   "metadata": {},
   "outputs": [],
   "source": [
    "x = np.arange(11)-5"
   ]
  },
  {
   "cell_type": "code",
   "execution_count": null,
   "metadata": {},
   "outputs": [],
   "source": [
    "print(\"x =\", x)\n",
    "print(\"k =\", np.rint(x/Q_step).astype(np.int16))"
   ]
  },
  {
   "cell_type": "code",
   "execution_count": null,
   "metadata": {},
   "outputs": [],
   "source": [
    "Q.quantize(x)"
   ]
  },
  {
   "cell_type": "code",
   "execution_count": null,
   "metadata": {},
   "outputs": [],
   "source": [
    "x = np.array([65])\n",
    "Q_step = 128\n",
    "Q = midtread.Midtread_Quantizer(Q_step=Q_step, min_val=-128, max_val=127)\n",
    "k = Q.encode(x)\n",
    "y = Q.decode(k)\n",
    "print(\"k =\", k)\n",
    "print(\"y =\", y)"
   ]
  },
  {
   "cell_type": "code",
   "execution_count": null,
   "metadata": {},
   "outputs": [],
   "source": [
    "print(\"x =\", x)\n",
    "print(\"k =\", np.floor(x/Q_step).astype(np.int16))"
   ]
  },
  {
   "cell_type": "code",
   "execution_count": null,
   "metadata": {},
   "outputs": [],
   "source": [
    "x = np.array([65])\n",
    "Q_step = 128\n",
    "Q = midrise.Midrise_Quantizer(Q_step=Q_step, min_val=-128, max_val=127)\n",
    "k = Q.encode(x)\n",
    "y = Q.decode(k)\n",
    "print(\"k =\", k)\n",
    "print(\"y =\", y)"
   ]
  },
  {
   "cell_type": "markdown",
   "metadata": {},
   "source": [
    "### A.c. [Dead-zone Quantization](https://en.wikipedia.org/wiki/Quantization_(signal_processing)#Dead-zone_quantizers)\n",
    "\n",
    "See *JPEG2000 Image Compression Fundamentals, Standards and Practice*.\n",
    "\n",
    "Quantization index\n",
    "\\begin{equation}\n",
    "k = \\left\\{ \n",
    "  \\begin{array}{cl}\n",
    "    \\text{sign}(x) \\left\\lfloor \\frac{\\left| x \\right|}{\\Delta}\\right\\rfloor & \\quad \\text{if } \\frac{\\left| x \\right|}{\\Delta} >0 \\\\\n",
    "    0                 & \\quad \\textrm{otherwise},\n",
    "  \\end{array}\n",
    "\\right.\n",
    "\\end{equation}\n",
    "which can be computed efficiently in NumPy by simply converting the floating point representation of $x/\\Delta$ to an integer using the [astype()](https://numpy.org/doc/stable/reference/generated/numpy.ndarray.astype.html) method.\n",
    "Reconstructed value\n",
    "\n",
    "\\begin{equation}\n",
    "y = \\left\\{ \n",
    "  \\begin{array}{cl}\n",
    "    0                                          & \\quad \\text{if } k=0 \\\\\n",
    "    \\text{sign}(k) (\\left| k \\right|-0.5)\\Delta & \\quad \\text{if } k\\ne 0 \n",
    "  \\end{array}\n",
    "\\right.\n",
    "\\end{equation}\n",
    "\n",
    "Using the same simplification, the second equation boils down to\n",
    "\\begin{equation}\n",
    "  y = \\Delta k.\n",
    "\\end{equation}\n"
   ]
  },
  {
   "cell_type": "code",
   "execution_count": null,
   "metadata": {},
   "outputs": [],
   "source": [
    "print(\"x =\", x)\n",
    "print(\"k =\", np.sign(x)*np.floor(np.abs(x)/Q_step).astype(np.int16))\n",
    "print(\"k =\", (x/Q_step).astype(np.int16))"
   ]
  },
  {
   "cell_type": "code",
   "execution_count": null,
   "metadata": {},
   "outputs": [],
   "source": [
    "x = np.array([127])\n",
    "Q_step = 128\n",
    "Q = deadzone.Deadzone_Quantizer(Q_step=Q_step, min_val=-128, max_val=127)\n",
    "k = Q.encode(x)\n",
    "y = Q.decode(k)\n",
    "print(\"k =\", k)\n",
    "print(\"y =\", y)"
   ]
  },
  {
   "cell_type": "code",
   "execution_count": null,
   "metadata": {},
   "outputs": [],
   "source": [
    "!pygmentize deadzone_quantization.py\n",
    "import deadzone_quantization as deadzone"
   ]
  },
  {
   "cell_type": "markdown",
   "metadata": {},
   "source": [
    "## Comparing Quantizers I/O"
   ]
  },
  {
   "cell_type": "code",
   "execution_count": null,
   "metadata": {},
   "outputs": [],
   "source": [
    "Q_step = 1 # Delta\n",
    "x = np.linspace(-8, 8, 500) # Input samples\n",
    "Q = midtread.Midtread_Quantizer(Q_step=Q_step, min_val=0, max_val=255)\n",
    "y_T, k_T = Q.encode_and_decode(x)\n",
    "Q = midrise.Midrise_Quantizer(Q_step=Q_step, min_val=0, max_val=255)\n",
    "y_R, k_R = Q.encode_and_decode(x)\n",
    "Q = deadzone.Deadzone_Quantizer(Q_step=Q_step, min_val=0, max_val=255)\n",
    "y_D, k_D = Q.encode_and_decode(x)\n",
    "Q = companded.Companded_Quantizer(Q_step=Q_step, min_val=0, max_val=255)\n",
    "y_C, k_C = Q.encode_and_decode(x)\n",
    "common.plot(x, y_T, \"Input Sample\", \"Reconstructed Sample\", \"Mid-tread Quantizer ($\\Delta={}$)\".format(Q_step))\n",
    "common.plot(x, y_R, \"Input Sample\", \"Reconstructed Sample\", \"Mid-rise Quantizer ($\\Delta={}$)\".format(Q_step))\n",
    "common.plot(x, y_D, \"Input Sample\", \"Reconstructed Sample\", \"Dead-zone Quantizer ($\\Delta={}$)\".format(Q_step))\n",
    "common.plot(x, y_C, \"Input Sample\", \"Reconstructed Sample\", \"Companded Dead-zone $\\mu$-Law Quantizer ($\\mu={}, \\Delta={}$)\".format(mu, Q_step))"
   ]
  },
  {
   "cell_type": "code",
   "execution_count": null,
   "metadata": {},
   "outputs": [],
   "source": [
    "error_T = x - y_T\n",
    "error_R = x - y_R\n",
    "error_D = x - y_D\n",
    "error_C = x - y_C\n",
    "common.plot(x, error_T, \"Input Sample\", \"Quantization Error\", \"Mid-tread Quantizer ($\\Delta={}$)\".format(Q_step))\n",
    "common.plot(x, error_R, \"Input Sample\", \"Quantization Error\", \"Mid-rise Quantizer ($\\Delta={}$)\".format(Q_step))\n",
    "common.plot(x, error_D, \"Input Sample\", \"Quantization Error\", \"Dead-zone Quantizer ($\\Delta={}$)\".format(Q_step))\n",
    "common.plot(x, error_C, \"Input Sample\", \"Quantization Error\", \"Companded Dead-zone $\\mu$-Law Quantizer ($\\mu={}, \\Delta={}$)\".format(mu, Q_step))"
   ]
  },
  {
   "cell_type": "code",
   "execution_count": null,
   "metadata": {},
   "outputs": [],
   "source": [
    "Q_step = 2\n",
    "x = np.linspace(-8, 8, 500)\n",
    "Q = midtread.Midtread_Quantizer(Q_step=Q_step, min_val=0, max_val=255)\n",
    "y_T, k_T = Q.encode_and_decode(x)\n",
    "Q = midrise.Midrise_Quantizer(Q_step=Q_step, min_val=0, max_val=255)\n",
    "y_R, k_R = Q.encode_and_decode(x)\n",
    "Q = deadzone.Deadzone_Quantizer(Q_step=Q_step, min_val=0, max_val=255)\n",
    "y_D, k_D = Q.encode_and_decode(x)\n",
    "Q = companded.Companded_Quantizer(Q_step=Q_step, min_val=0, max_val=255)\n",
    "y_C, k_C = Q.encode_and_decode(x)\n",
    "common.plot(x, y_T, \"Input Sample\", \"Reconstructed Sample\", \"Mid-tread Quantizer ($\\Delta={}$)\".format(Q_step))\n",
    "common.plot(x, y_R, \"Input Sample\", \"Reconstructed Sample\", \"Mid-rise Quantizer ($\\Delta={}$)\".format(Q_step))\n",
    "common.plot(x, y_D, \"Input Sample\", \"Reconstructed Sample\", \"Dead-zone Quantizer ($\\Delta={}$)\".format(Q_step))\n",
    "common.plot(x, y_C, \"Input Sample\", \"Reconstructed Sample\", \"Companded Dead-zone $\\mu$-Law Quantizer ($\\mu={}, \\Delta={}$)\".format(mu, Q_step))"
   ]
  },
  {
   "cell_type": "code",
   "execution_count": null,
   "metadata": {},
   "outputs": [],
   "source": [
    "error_T = x - y_T\n",
    "error_R = x - y_R\n",
    "error_D = x - y_D\n",
    "error_C = x - y_C\n",
    "common.plot(x, error_T, \"Input Sample\", \"Quantization Error\", \"Mid-tread Quantizer ($\\Delta={}$)\".format(Q_step))\n",
    "common.plot(x, error_R, \"Input Sample\", \"Quantization Error\", \"Mid-rise Quantizer ($\\Delta={}$)\".format(Q_step))\n",
    "common.plot(x, error_D, \"Input Sample\", \"Quantization Error\", \"Dead-zone Quantizer ($\\Delta={}$)\".format(Q_step))\n",
    "common.plot(x, error_C, \"Input Sample\", \"Quantization Error\", \"Companded Dead-zone $\\mu$-Law Quantizer ($\\mu={}, \\Delta={}$)\".format(mu, Q_step))"
   ]
  },
  {
   "cell_type": "code",
   "execution_count": null,
   "metadata": {},
   "outputs": [],
   "source": [
    "Q_step = 3\n",
    "x = np.linspace(-8, 8, 500)\n",
    "Q = midtread.Midtread_Quantizer(Q_step=Q_step, min_val=0, max_val=255)\n",
    "y_T, k_T = Q.encode_and_decode(x)\n",
    "Q = midrise.Midrise_Quantizer(Q_step=Q_step, min_val=0, max_val=255)\n",
    "y_R, k_R = Q.encode_and_decode(x)\n",
    "Q = deadzone.Deadzone_Quantizer(Q_step=Q_step, min_val=0, max_val=255)\n",
    "y_D, k_D = Q.encode_and_decode(x)\n",
    "Q = companded.Companded_Quantizer(Q_step=Q_step, min_val=0, max_val=255)\n",
    "y_C, k_C = Q.encode_and_decode(x)\n",
    "common.plot(x, y_T, \"Input Sample\", \"Reconstructed Sample\", \"Mid-tread Quantizer ($\\Delta={}$)\".format(Q_step))\n",
    "common.plot(x, y_R, \"Input Sample\", \"Reconstructed Sample\", \"Mid-rise Quantizer ($\\Delta={}$)\".format(Q_step))\n",
    "common.plot(x, y_D, \"Input Sample\", \"Reconstructed Sample\", \"Dead-zone Quantizer ($\\Delta={}$)\".format(Q_step))\n",
    "common.plot(x, y_C, \"Input Sample\", \"Reconstructed Sample\", \"Companded Dead-zone $\\mu$-Law Quantizer ($\\mu={}, \\Delta={}$)\".format(mu, Q_step))"
   ]
  },
  {
   "cell_type": "code",
   "execution_count": null,
   "metadata": {},
   "outputs": [],
   "source": [
    "error_T = x - y_T\n",
    "error_R = x - y_R\n",
    "error_D = x - y_D\n",
    "error_C = x - y_C\n",
    "common.plot(x, error_T, \"Input Sample\", \"Quantization Error\", \"Mid-tread Quantizer ($\\Delta={}$)\".format(Q_step))\n",
    "common.plot(x, error_R, \"Input Sample\", \"Quantization Error\", \"Mid-rise Quantizer ($\\Delta={}$)\".format(Q_step))\n",
    "common.plot(x, error_D, \"Input Sample\", \"Quantization Error\", \"Dead-zone Quantizer ($\\Delta={}$)\".format(Q_step))\n",
    "common.plot(x, error_C, \"Input Sample\", \"Quantization Error\", \"Companded Dead-zone $\\mu$-Law Quantizer ($\\mu={}, \\Delta={}$)\".format(mu, Q_step))"
   ]
  },
  {
   "cell_type": "code",
   "execution_count": null,
   "metadata": {},
   "outputs": [],
   "source": [
    "Q_step = 4\n",
    "x = np.linspace(-8, 8, 500)\n",
    "Q = midtread.Midtread_Quantizer(Q_step=Q_step, min_val=0, max_val=255)\n",
    "y_T, k_T = Q.encode_and_decode(x)\n",
    "Q = midrise.Midrise_Quantizer(Q_step=Q_step, min_val=0, max_val=255)\n",
    "y_R, k_R = Q.encode_and_decode(x)\n",
    "Q = deadzone.Deadzone_Quantizer(Q_step=Q_step, min_val=0, max_val=255)\n",
    "y_D, k_D = Q.encode_and_decode(x)\n",
    "Q = companded.Companded_Quantizer(Q_step=Q_step, min_val=0, max_val=255)\n",
    "y_C, k_C = Q.encode_and_decode(x)\n",
    "common.plot(x, y_T, \"Input Sample\", \"Reconstructed Sample\", \"Mid-tread Quantizer ($\\Delta={}$)\".format(Q_step))\n",
    "common.plot(x, y_R, \"Input Sample\", \"Reconstructed Sample\", \"Mid-rise Quantizer ($\\Delta={}$)\".format(Q_step))\n",
    "common.plot(x, y_D, \"Input Sample\", \"Reconstructed Sample\", \"Dead-zone Quantizer ($\\Delta={}$)\".format(Q_step))\n",
    "common.plot(x, y_C, \"Input Sample\", \"Reconstructed Sample\", \"Companded Dead-zone $\\mu$-Law Quantizer ($\\mu={}, \\Delta={}$)\".format(mu, Q_step))"
   ]
  },
  {
   "cell_type": "code",
   "execution_count": null,
   "metadata": {},
   "outputs": [],
   "source": [
    "error_T = x - y_T\n",
    "error_R = x - y_R\n",
    "error_D = x - y_D\n",
    "error_C = x - y_C\n",
    "common.plot(x, error_T, \"Input Sample\", \"Quantization Error\", \"Mid-tread Quantizer ($\\Delta={}$)\".format(Q_step))\n",
    "common.plot(x, error_R, \"Input Sample\", \"Quantization Error\", \"Mid-rise Quantizer ($\\Delta={}$)\".format(Q_step))\n",
    "common.plot(x, error_D, \"Input Sample\", \"Quantization Error\", \"Dead-zone Quantizer ($\\Delta={}$)\".format(Q_step))\n",
    "common.plot(x, error_C, \"Input Sample\", \"Quantization Error\", \"Companded Dead-zone $\\mu$-Law Quantizer ($\\mu={}, \\Delta={}$)\".format(mu, Q_step))"
   ]
  },
  {
   "cell_type": "code",
   "execution_count": null,
   "metadata": {},
   "outputs": [],
   "source": [
    "Q_step = 1024\n",
    "min_val = -32768\n",
    "max_val = 32767\n",
    "x = np.linspace(min_val, max_val, 500)\n",
    "Q = midtread.Midtread_Quantizer(Q_step=Q_step, min_val=min_val, max_val=max_val)\n",
    "y_T, k_T = Q.encode_and_decode(x)\n",
    "Q = midrise.Midrise_Quantizer(Q_step=Q_step, min_val=min_val, max_val=max_val)\n",
    "y_R, k_R = Q.encode_and_decode(x)\n",
    "Q = deadzone.Deadzone_Quantizer(Q_step=Q_step, min_val=min_val, max_val=max_val)\n",
    "y_D, k_D = Q.encode_and_decode(x)\n",
    "Q = companded.Companded_Quantizer(Q_step=Q_step, min_val=min_val, max_val=max_val)\n",
    "y_C, k_C = Q.encode_and_decode(x)\n",
    "common.plot(x, y_T, \"Input Sample\", \"Reconstructed Sample\", \"Mid-tread Quantizer ($\\Delta={}$)\".format(Q_step))\n",
    "common.plot(x, y_R, \"Input Sample\", \"Reconstructed Sample\", \"Mid-rise Quantizer ($\\Delta={}$)\".format(Q_step))\n",
    "common.plot(x, y_D, \"Input Sample\", \"Reconstructed Sample\", \"Dead-zone Quantizer ($\\Delta={}$)\".format(Q_step))\n",
    "common.plot(x, y_C, \"Input Sample\", \"Reconstructed Sample\", \"Companded Dead-zone $\\mu$-Law Quantizer ($\\mu={}, \\Delta={}$)\".format(mu, Q_step))"
   ]
  },
  {
   "cell_type": "code",
   "execution_count": null,
   "metadata": {},
   "outputs": [],
   "source": [
    "error_T = x - y_T\n",
    "error_R = x - y_R\n",
    "error_D = x - y_D\n",
    "error_C = x - y_C\n",
    "common.plot(x, error_T, \"Input Sample\", \"Quantization Error\", \"Mid-tread Quantizer ($\\Delta={}$)\".format(Q_step))\n",
    "common.plot(x, error_R, \"Input Sample\", \"Quantization Error\", \"Mid-rise Quantizer ($\\Delta={}$)\".format(Q_step))\n",
    "common.plot(x, error_D, \"Input Sample\", \"Quantization Error\", \"Dead-zone Quantizer ($\\Delta={}$)\".format(Q_step))\n",
    "common.plot(x, error_C, \"Input Sample\", \"Quantization Error\", \"Companded Dead-zone $\\mu$-Law Quantizer ($\\mu={}, \\Delta={}$)\".format(mu, Q_step))"
   ]
  },
  {
   "cell_type": "markdown",
   "metadata": {},
   "source": [
    "## Working with signed integers of 16 bits"
   ]
  },
  {
   "cell_type": "code",
   "execution_count": null,
   "metadata": {},
   "outputs": [],
   "source": [
    "Q_step = 1\n",
    "x = np.linspace(-32768, 32767, 65536).astype(np.int16)\n",
    "Q = midtread.Midtread_Quantizer(Q_step=Q_step, min_val=0, max_val=255)\n",
    "y_T, k_T = Q.encode_and_decode(x)\n",
    "Q = midrise.Midrise_Quantizer(Q_step=Q_step, min_val=0, max_val=255)\n",
    "y_R, k_R = Q.encode_and_decode(x)\n",
    "Q = deadzone.Deadzone_Quantizer(Q_step=Q_step, min_val=0, max_val=255)\n",
    "y_D, k_D = Q.encode_and_decode(x)\n",
    "Q = companded.Companded_Quantizer(Q_step=Q_step, min_val=0, max_val=255)\n",
    "y_C, k_C = Q.encode_and_decode(x)\n",
    "\n",
    "n = 16\n",
    "print(f\"{'Mid-tread':>20s} {'Mid-rise':>20s} {'Dead-zone':>20s} {'Companded Dead-zone':>20s}\")\n",
    "print(f\"{'Input':>6s} {'Output':>6s} {'Recons':>6s} {'Input':>6s} {'Output':>6s} {'Recons':>6s} {'Input':>6s} {'Output':>6s} {'Recons':>6s} {'Input':>6s} {'Output':>6s} {'Recons':>6s}\")\n",
    "offset = (len(x)-n)//2\n",
    "for i in range(n):\n",
    "    input = int(x[i+offset])\n",
    "    output_T = int(k_T[i+offset])\n",
    "    recons_T = int(y_T[i+offset])\n",
    "    print(f\"{input:>6d} {output_T:>6d} {recons_T:>6d}\", end='')\n",
    "    output_R = int(k_R[i+offset])\n",
    "    recons_R = int(y_R[i+offset])\n",
    "    print(f\" {input:>6d} {output_R:>6d} {recons_R:>6d}\", end='')\n",
    "    output_D = int(k_D[i+offset])\n",
    "    recons_D = int(y_D[i+offset])\n",
    "    print(f\" {input:>6d} {output_D:>6d} {recons_D:>6d}\", end='')\n",
    "    output_C = int(k_C[i+offset])\n",
    "    recons_C = int(y_C[i+offset])\n",
    "    print(f\" {input:>6d} {output_C:>6d} {recons_C:>6d}\")\n"
   ]
  },
  {
   "cell_type": "code",
   "execution_count": null,
   "metadata": {},
   "outputs": [],
   "source": [
    "Q_step = 2\n",
    "x = np.linspace(-32768, 32767, 65536).astype(np.int16)\n",
    "Q = midtread.Midtread_Quantizer(Q_step=Q_step, min_val=0, max_val=255)\n",
    "y_T, k_T = Q.encode_and_decode(x)\n",
    "Q = midrise.Midrise_Quantizer(Q_step=Q_step, min_val=0, max_val=255)\n",
    "y_R, k_R = Q.encode_and_decode(x)\n",
    "Q = deadzone.Deadzone_Quantizer(Q_step=Q_step, min_val=0, max_val=255)\n",
    "y_D, k_D = Q.encode_and_decode(x)\n",
    "Q = companded.Companded_Quantizer(Q_step=Q_step, min_val=0, max_val=255)\n",
    "y_C, k_C = Q.encode_and_decode(x)\n",
    "\n",
    "n = 16\n",
    "print(f\"{'Mid-tread':>20s} {'Mid-rise':>20s} {'Dead-zone':>20s} {'Companded Dead-zone':>20s}\")\n",
    "print(f\"{'Input':>6s} {'Output':>6s} {'Recons':>6s} {'Input':>6s} {'Output':>6s} {'Recons':>6s} {'Input':>6s} {'Output':>6s} {'Recons':>6s} {'Input':>6s} {'Output':>6s} {'Recons':>6s}\")\n",
    "offset = (len(x)-n)//2\n",
    "for i in range(n):\n",
    "    input = int(x[i+offset])\n",
    "    output_T = int(k_T[i+offset])\n",
    "    recons_T = int(y_T[i+offset])\n",
    "    print(f\"{input:>6d} {output_T:>6d} {recons_T:>6d}\", end='')\n",
    "    output_R = int(k_R[i+offset])\n",
    "    recons_R = int(y_R[i+offset])\n",
    "    print(f\" {input:>6d} {output_R:>6d} {recons_R:>6d}\", end='')\n",
    "    output_D = int(k_D[i+offset])\n",
    "    recons_D = int(y_D[i+offset])\n",
    "    print(f\" {input:>6d} {output_D:>6d} {recons_D:>6d}\", end='')\n",
    "    output_C = int(k_C[i+offset])\n",
    "    recons_C = int(y_C[i+offset])\n",
    "    print(f\" {input:>6d} {output_C:>6d} {recons_C:>6d}\")\n"
   ]
  },
  {
   "cell_type": "code",
   "execution_count": null,
   "metadata": {},
   "outputs": [],
   "source": [
    "Q_step = 32\n",
    "x = np.linspace(-32768, 32767, 65536).astype(np.int16)\n",
    "Q = midtread.Midtread_Quantizer(Q_step=Q_step, min_val=0, max_val=255)\n",
    "y_T, k_T = Q.encode_and_decode(x)\n",
    "Q = midrise.Midrise_Quantizer(Q_step=Q_step, min_val=0, max_val=255)\n",
    "y_R, k_R = Q.encode_and_decode(x)\n",
    "Q = deadzone.Deadzone_Quantizer(Q_step=Q_step, min_val=0, max_val=255)\n",
    "y_D, k_D = Q.encode_and_decode(x)\n",
    "Q = companded.Companded_Quantizer(Q_step=Q_step, min_val=0, max_val=255)\n",
    "y_C, k_C = Q.encode_and_decode(x)\n",
    "\n",
    "n = 16\n",
    "print(f\"{'Mid-tread':>20s} {'Mid-rise':>20s} {'Dead-zone':>20s} {'Companded Dead-zone':>20s}\")\n",
    "print(f\"{'Input':>6s} {'Output':>6s} {'Recons':>6s} {'Input':>6s} {'Output':>6s} {'Recons':>6s} {'Input':>6s} {'Output':>6s} {'Recons':>6s} {'Input':>6s} {'Output':>6s} {'Recons':>6s}\")\n",
    "offset = (len(x)-n)//2\n",
    "for i in range(n):\n",
    "    input = int(x[i+offset])\n",
    "    output_T = int(k_T[i+offset])\n",
    "    recons_T = int(y_T[i+offset])\n",
    "    print(f\"{input:>6d} {output_T:>6d} {recons_T:>6d}\", end='')\n",
    "    output_R = int(k_R[i+offset])\n",
    "    recons_R = int(y_R[i+offset])\n",
    "    print(f\" {input:>6d} {output_R:>6d} {recons_R:>6d}\", end='')\n",
    "    output_D = int(k_D[i+offset])\n",
    "    recons_D = int(y_D[i+offset])\n",
    "    print(f\" {input:>6d} {output_D:>6d} {recons_D:>6d}\", end='')\n",
    "    output_C = int(k_C[i+offset])\n",
    "    recons_C = int(y_C[i+offset])\n",
    "    print(f\" {input:>6d} {output_C:>6d} {recons_C:>6d}\")\n"
   ]
  },
  {
   "cell_type": "markdown",
   "metadata": {},
   "source": [
    "## Ignore the rest."
   ]
  },
  {
   "cell_type": "code",
   "execution_count": null,
   "metadata": {},
   "outputs": [],
   "source": [
    "import time\n",
    "while True:\n",
    "    time.sleep(1)"
   ]
  }
 ],
 "metadata": {
  "kernelspec": {
   "display_name": "Python 3 (ipykernel)",
   "language": "python",
   "name": "python3"
  },
  "language_info": {
   "codemirror_mode": {
    "name": "ipython",
    "version": 3
   },
   "file_extension": ".py",
   "mimetype": "text/x-python",
   "name": "python",
   "nbconvert_exporter": "python",
   "pygments_lexer": "ipython3",
   "version": "3.10.5"
  }
 },
 "nbformat": 4,
 "nbformat_minor": 2
}
