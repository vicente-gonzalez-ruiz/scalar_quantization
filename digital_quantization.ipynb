{
 "cells": [
  {
   "cell_type": "markdown",
   "metadata": {},
   "source": [
    "# Non-adaptive Scalar [Quantization](https://en.wikipedia.org/wiki/Quantization_(signal_processing)) of Digital Signals"
   ]
  },
  {
   "cell_type": "code",
   "execution_count": null,
   "metadata": {},
   "outputs": [],
   "source": [
    "%matplotlib inline\n",
    "\n",
    "import math\n",
    "import numpy as np\n",
    "\n",
    "import common\n",
    "!ln -sf ~/repos/image_IO/logging_config.py ."
   ]
  },
  {
   "cell_type": "markdown",
   "metadata": {},
   "source": [
    "## A.  Uniform Quantization"
   ]
  },
  {
   "cell_type": "markdown",
   "metadata": {},
   "source": [
    "### A.a. [Mid-tread (\"round\") Quantization](https://en.wikipedia.org/wiki/Quantization_(signal_processing)#Example)\n",
    "\n",
    "Mid-tread quantizers are uniform quantizers (the decision levels are spaced evenly) and has zero as one of its output (dequantized) levels.\n",
    "\n",
    "Quantization index:\n",
    "\\begin{equation}\n",
    "k = \\left\\lfloor \\frac{\\left| x \\right|}{\\Delta} + \\frac{1}{2}\\right\\rfloor.\n",
    "\\end{equation}\n",
    "\n",
    "Reconstructed value:\n",
    "\\begin{equation}\n",
    "  y = \\Delta k.\n",
    "\\end{equation}\n",
    "\n",
    "The $k$ index can be also computed using the [round half toward zero](https://en.wikipedia.org/wiki/Rounding#Round_half_towards_zero) (or round to the nearest integer), for which NumPy provides the method [rint()](https://numpy.org/doc/stable/reference/generated/numpy.rint.html)."
   ]
  },
  {
   "cell_type": "code",
   "execution_count": null,
   "metadata": {},
   "outputs": [],
   "source": [
    "!cat midtread_quantization.py\n",
    "import midtread_quantization as midtread"
   ]
  },
  {
   "cell_type": "code",
   "execution_count": null,
   "metadata": {},
   "outputs": [],
   "source": [
    "Q_step = 2\n",
    "Q = midtread.Midtread_Quantizer(Q_step=Q_step, min_val=-128, max_val=127)\n",
    "x = np.linspace(-8, 8, 500) # Input samples\n",
    "y, k = Q.quan_dequan(x)\n",
    "common.plot(x, y, \"Input Sample\", \"Reconstructed Sample\", \"Mid-tread Quantizer ($\\Delta={}$)\".format(Q_step))"
   ]
  },
  {
   "cell_type": "markdown",
   "metadata": {},
   "source": [
    "The reconstruction levels are in the middle of each bin (this is true for all the non-adaptive quantizers). For example, the values between -1 and 1 ($\\Delta=2$) are reconstructed as 0. The values between 1 and 3, are reconstructed by 2."
   ]
  },
  {
   "cell_type": "markdown",
   "metadata": {},
   "source": [
    "Depending on the resolution of the input (digital) signal $x$ and quantization step size $\\Delta$, the bins can have different size:"
   ]
  },
  {
   "cell_type": "code",
   "execution_count": null,
   "metadata": {},
   "outputs": [],
   "source": [
    "x = np.arange(15)-7\n",
    "y, k = Q.quan_dequan(x)\n",
    "print(x)\n",
    "print(k)\n",
    "print(y)"
   ]
  },
  {
   "cell_type": "markdown",
   "metadata": {
    "slideshow": {
     "slide_type": "subslide"
    }
   },
   "source": [
    "... but this effect is only noticeable if the resolution of $x$ and the size of $\\Delta$ are comparable."
   ]
  },
  {
   "cell_type": "markdown",
   "metadata": {},
   "source": [
    "### A.b. [Mid-tread Quantization with Deadzone](https://en.wikipedia.org/wiki/Quantization_(signal_processing)#Dead-zone_quantizers)\n",
    "\n",
    "Deadzone quantizers are characterized by using a bin of size $2\\Delta$ centered at the 0 input. See *JPEG2000 Image Compression Fundamentals, Standards and Practice*.\n",
    "\n",
    "Quantization index\n",
    "\\begin{equation}\n",
    "k = \\left\\{ \n",
    "  \\begin{array}{cl}\n",
    "    \\text{sign}(x) \\left\\lfloor \\frac{\\left| x \\right|}{\\Delta}\\right\\rfloor & \\quad \\text{if } \\frac{\\left| x \\right|}{\\Delta} >0 \\\\\n",
    "    0                 & \\quad \\textrm{otherwise},\n",
    "  \\end{array}\n",
    "\\right.\n",
    "\\end{equation}\n",
    "which can be computed efficiently in NumPy by simply converting the floating point representation of $x/\\Delta$ to an integer using the [astype()](https://numpy.org/doc/stable/reference/generated/numpy.ndarray.astype.html) method.\n",
    "Reconstructed value\n",
    "\n",
    "\\begin{equation}\n",
    "y = \\left\\{ \n",
    "  \\begin{array}{cl}\n",
    "    0                                          & \\quad \\text{if } k=0 \\\\\n",
    "    \\text{sign}(k) (\\left| k \\right|-0.5)\\Delta & \\quad \\text{if } k\\ne 0 \n",
    "  \\end{array}\n",
    "\\right.\n",
    "\\end{equation}\n",
    "\n",
    "Using the same simplification, the second equation boils down to\n",
    "\\begin{equation}\n",
    "  y = \\Delta k.\n",
    "\\end{equation}\n"
   ]
  },
  {
   "cell_type": "code",
   "execution_count": null,
   "metadata": {},
   "outputs": [],
   "source": [
    "!cat deadzone_quantization.py\n",
    "import deadzone_quantization as deadzone"
   ]
  },
  {
   "cell_type": "code",
   "execution_count": null,
   "metadata": {},
   "outputs": [],
   "source": [
    "Q_step = 2\n",
    "Q = deadzone.Deadzone_Quantizer(Q_step=Q_step, min_val=-128, max_val=127)\n",
    "x = np.linspace(-8, 8, 500) # Input samples\n",
    "y, k = Q.quan_dequan(x)\n",
    "common.plot(x, y, \"Input Sample\", \"Reconstructed Sample\", \"Mid-tread (with Deadzone) Quantizer ($\\Delta={}$)\".format(Q_step))"
   ]
  },
  {
   "cell_type": "code",
   "execution_count": null,
   "metadata": {},
   "outputs": [],
   "source": [
    "x = np.arange(15)-7\n",
    "y, k = Q.quan_dequan(x)\n",
    "print(x)\n",
    "print(k)\n",
    "print(y)"
   ]
  },
  {
   "cell_type": "markdown",
   "metadata": {},
   "source": [
    "### A.c. [Mid-rise (\"truncation\") Quantization](https://en.wikipedia.org/wiki/Quantization_(signal_processing)#Mid-riser_and_mid-tread_uniform_quantizers)\n",
    "\n",
    "Mid-rise quantizers do not have zero as one of its representation levels (in fact, at 0, the output is $\\Delta/2$).\n",
    "\n",
    "Quantization index\n",
    "\\begin{equation}\n",
    "  k=\\Big\\lfloor \\frac{x}{\\Delta}\\Big\\rfloor.\n",
    "\\end{equation}\n",
    "\n",
    "Reconstructed value\n",
    "\\begin{equation}\n",
    "  y = \\Delta \\Big(k + \\frac{1}{2}\\Big).\n",
    "\\end{equation}"
   ]
  },
  {
   "cell_type": "code",
   "execution_count": null,
   "metadata": {},
   "outputs": [],
   "source": [
    "!cat midrise_quantization.py\n",
    "import midrise_quantization as midrise"
   ]
  },
  {
   "cell_type": "code",
   "execution_count": null,
   "metadata": {},
   "outputs": [],
   "source": [
    "Q_step = 2\n",
    "Q = midrise.Midrise_Quantizer(Q_step=Q_step, min_val=-128, max_val=127)\n",
    "x = np.linspace(-8, 8, 500) # Input samples\n",
    "y, k = Q.quan_dequan(x)\n",
    "common.plot(x, y, \"Input Sample\", \"Reconstructed Sample\", \"Mid-rise Quantizer ($\\Delta={}$)\".format(Q_step))"
   ]
  },
  {
   "cell_type": "code",
   "execution_count": null,
   "metadata": {},
   "outputs": [],
   "source": [
    "x = np.arange(15)-7\n",
    "y, k = Q.quan_dequan(x)\n",
    "print(x)\n",
    "print(k)\n",
    "print(y)"
   ]
  },
  {
   "cell_type": "markdown",
   "metadata": {},
   "source": [
    "## B. [Non Uniform Quantization](https://nptel.ac.in/content/storage2/courses/117104069/chapter_5/5_5.html)"
   ]
  },
  {
   "cell_type": "markdown",
   "metadata": {},
   "source": [
    "### B.a. [Companded (COMpressed + exPANDED)](https://en.wikipedia.org/wiki/Companding) Quantization\n",
    "\n",
    "The bins are smaller at the input 0 and viceversa. This can be interesing if most of the samples are small (in absolute value), because we will minimize the quantization error."
   ]
  },
  {
   "cell_type": "markdown",
   "metadata": {},
   "source": [
    "#### B.a.1. [$\\mu$-Law](https://en.wikipedia.org/wiki/%CE%9C-law_algorithm) Companded  Quantization\n",
    "\n",
    "Compressor\n",
    "\\begin{equation}\n",
    "C(x) = \\text{sgn}(x) \\frac{\\ln(1+ \\mu |x|)}{\\ln(1+\\mu)}, ~~~~-1 \\leq x \\leq 1,\n",
    "\\end{equation}\n",
    "shere $\\mu=255$ in most implementations.\n",
    "\n",
    "Expander:\n",
    "\\begin{equation}\n",
    "C^{-1}(y) = \\text{sgn}(y) (1 / \\mu ) ((1 + \\mu)^{|y|}- 1),~~~~-1 \\leq y \\leq 1.\n",
    "\\end{equation}"
   ]
  },
  {
   "cell_type": "code",
   "execution_count": null,
   "metadata": {},
   "outputs": [],
   "source": [
    "!cat companded_quantization.py\n",
    "import companded_quantization as companded"
   ]
  },
  {
   "cell_type": "code",
   "execution_count": null,
   "metadata": {},
   "outputs": [],
   "source": [
    "x = np.linspace(-1, 1, 500)\n",
    "Q = companded.Companded_Quantizer(Q_step=Q_step, min_val=-128, max_val=127)\n",
    "\n",
    "mu = 255\n",
    "y = Q.muLaw_compress(x, mu)\n",
    "common.plot(x, y, \"Input\", \"Output\", \"$\\mu$-law Compressor ($\\mu={}$)\".format(mu))"
   ]
  },
  {
   "cell_type": "code",
   "execution_count": null,
   "metadata": {},
   "outputs": [],
   "source": [
    "x = np.linspace(-1, 1, 500)\n",
    "\n",
    "mu = 255\n",
    "y = Q.muLaw_expand(x, mu)\n",
    "common.plot(x, y, \"Input\", \"Output\", \"$\\mu$-law Expander ($\\mu={}$)\".format(mu))"
   ]
  },
  {
   "cell_type": "code",
   "execution_count": null,
   "metadata": {},
   "outputs": [],
   "source": [
    "mu = 255\n",
    "x = np.linspace(-1, 1, 500)\n",
    "y = Q.muLaw_compress(x, mu)\n",
    "x_recons = Q.muLaw_expand(y, mu)\n",
    "common.plot(x, x_recons, \"Input\", \"Output\", \"Expansion(Compression(Input))\".format(mu))"
   ]
  },
  {
   "cell_type": "markdown",
   "metadata": {},
   "source": [
    "After these definitions, we define the quantization index\n",
    "\\begin{equation}\n",
    "  k = Q\\big(C(x)\\big),\n",
    "\\end{equation}\n",
    "where $C$ is the compression function and $Q$ is a dead-zone quantizer. \n",
    "\n",
    "Reconstruction value\n",
    "\\begin{equation}\n",
    "  y = C^{-1}\\big(Q^{-1}(k)\\big),\n",
    "\\end{equation}\n",
    "where $Q^{-1}$ stands for the dead-zone dequantizer and $C^{-1}$ for the expander function."
   ]
  },
  {
   "cell_type": "code",
   "execution_count": null,
   "metadata": {},
   "outputs": [],
   "source": [
    "Q_step = 1024\n",
    "min_val = -32767\n",
    "max_val = 32767\n",
    "x = np.linspace(min_val, max_val, 500)\n",
    "Q = companded.Companded_Quantizer(Q_step=Q_step, min_val=min_val, max_val=max_val)\n",
    "y, k = Q.quan_dequan(x)\n",
    "common.plot(x, y, \"Input Sample\", \"Reconstructed Sample\", \"Companded Dead-zone $\\mu$-Law Quantizer ($\\mu={}, \\Delta={}$)\".format(mu, Q_step))"
   ]
  },
  {
   "cell_type": "code",
   "execution_count": null,
   "metadata": {},
   "outputs": [],
   "source": [
    "# Ignore the rest.\n",
    "\n",
    "import time\n",
    "while True:\n",
    "    time.sleep(1)"
   ]
  },
  {
   "cell_type": "markdown",
   "metadata": {},
   "source": [
    "### A.c. [Dead-zone Quantization](https://en.wikipedia.org/wiki/Quantization_(signal_processing)#Dead-zone_quantizers)\n",
    "\n",
    "See *JPEG2000 Image Compression Fundamentals, Standards and Practice*.\n",
    "\n",
    "Quantization index\n",
    "\\begin{equation}\n",
    "k = \\left\\{ \n",
    "  \\begin{array}{cl}\n",
    "    \\text{sign}(x) \\left\\lfloor \\frac{\\left| x \\right|}{\\Delta}\\right\\rfloor & \\quad \\text{if } \\frac{\\left| x \\right|}{\\Delta} >0 \\\\\n",
    "    0                 & \\quad \\textrm{otherwise},\n",
    "  \\end{array}\n",
    "\\right.\n",
    "\\end{equation}\n",
    "which can be computed efficiently in NumPy by simply converting the floating point representation of $x/\\Delta$ to an integer using the [astype()](https://numpy.org/doc/stable/reference/generated/numpy.ndarray.astype.html) method.\n",
    "Reconstructed value\n",
    "\n",
    "\\begin{equation}\n",
    "y = \\left\\{ \n",
    "  \\begin{array}{cl}\n",
    "    0                                          & \\quad \\text{if } k=0 \\\\\n",
    "    \\text{sign}(k) (\\left| k \\right|-0.5)\\Delta & \\quad \\text{if } k\\ne 0 \n",
    "  \\end{array}\n",
    "\\right.\n",
    "\\end{equation}\n",
    "\n",
    "Using the same simplification, the second equation boils down to\n",
    "\\begin{equation}\n",
    "  y = \\Delta k.\n",
    "\\end{equation}\n"
   ]
  },
  {
   "cell_type": "code",
   "execution_count": null,
   "metadata": {},
   "outputs": [],
   "source": [
    "!cat deadzone_quantization.py\n",
    "import deadzone_quantization as deadzone"
   ]
  },
  {
   "cell_type": "code",
   "execution_count": null,
   "metadata": {},
   "outputs": [],
   "source": []
  },
  {
   "cell_type": "code",
   "execution_count": null,
   "metadata": {},
   "outputs": [],
   "source": []
  },
  {
   "cell_type": "code",
   "execution_count": null,
   "metadata": {},
   "outputs": [],
   "source": []
  },
  {
   "cell_type": "code",
   "execution_count": null,
   "metadata": {},
   "outputs": [],
   "source": [
    "x = np.arange(11)-5"
   ]
  },
  {
   "cell_type": "code",
   "execution_count": null,
   "metadata": {},
   "outputs": [],
   "source": [
    "print(\"x =\", x)\n",
    "print(\"k =\", np.rint(x/Q_step).astype(np.int16))"
   ]
  },
  {
   "cell_type": "code",
   "execution_count": null,
   "metadata": {},
   "outputs": [],
   "source": [
    "Q.quantize(x)"
   ]
  },
  {
   "cell_type": "code",
   "execution_count": null,
   "metadata": {},
   "outputs": [],
   "source": [
    "x = np.array([65])\n",
    "Q_step = 128\n",
    "Q = midtread.Midtread_Quantizer(Q_step=Q_step, min_val=-128, max_val=127)\n",
    "k = Q.quantize(x)\n",
    "y = Q.dequantize(k)\n",
    "print(\"k =\", k)\n",
    "print(\"y =\", y)"
   ]
  },
  {
   "cell_type": "code",
   "execution_count": null,
   "metadata": {},
   "outputs": [],
   "source": [
    "print(\"x =\", x)\n",
    "print(\"k =\", np.floor(x/Q_step).astype(np.int16))"
   ]
  },
  {
   "cell_type": "code",
   "execution_count": null,
   "metadata": {},
   "outputs": [],
   "source": [
    "x = np.array([65])\n",
    "Q_step = 128\n",
    "Q = midrise.Midrise_Quantizer(Q_step=Q_step, min_val=-128, max_val=127)\n",
    "k = Q.quantize(x)\n",
    "y = Q.dequantize(k)\n",
    "print(\"k =\", k)\n",
    "print(\"y =\", y)"
   ]
  },
  {
   "cell_type": "markdown",
   "metadata": {},
   "source": [
    "### A.c. [Dead-zone Quantization](https://en.wikipedia.org/wiki/Quantization_(signal_processing)#Dead-zone_quantizers)\n",
    "\n",
    "See *JPEG2000 Image Compression Fundamentals, Standards and Practice*.\n",
    "\n",
    "Quantization index\n",
    "\\begin{equation}\n",
    "k = \\left\\{ \n",
    "  \\begin{array}{cl}\n",
    "    \\text{sign}(x) \\left\\lfloor \\frac{\\left| x \\right|}{\\Delta}\\right\\rfloor & \\quad \\text{if } \\frac{\\left| x \\right|}{\\Delta} >0 \\\\\n",
    "    0                 & \\quad \\textrm{otherwise},\n",
    "  \\end{array}\n",
    "\\right.\n",
    "\\end{equation}\n",
    "which can be computed efficiently in NumPy by simply converting the floating point representation of $x/\\Delta$ to an integer using the [astype()](https://numpy.org/doc/stable/reference/generated/numpy.ndarray.astype.html) method.\n",
    "Reconstructed value\n",
    "\n",
    "\\begin{equation}\n",
    "y = \\left\\{ \n",
    "  \\begin{array}{cl}\n",
    "    0                                          & \\quad \\text{if } k=0 \\\\\n",
    "    \\text{sign}(k) (\\left| k \\right|-0.5)\\Delta & \\quad \\text{if } k\\ne 0 \n",
    "  \\end{array}\n",
    "\\right.\n",
    "\\end{equation}\n",
    "\n",
    "Using the same simplification, the second equation boils down to\n",
    "\\begin{equation}\n",
    "  y = \\Delta k.\n",
    "\\end{equation}\n"
   ]
  },
  {
   "cell_type": "code",
   "execution_count": null,
   "metadata": {},
   "outputs": [],
   "source": [
    "!cat deadzone_quantization.py\n",
    "import deadzone_quantization as deadzone"
   ]
  },
  {
   "cell_type": "code",
   "execution_count": null,
   "metadata": {},
   "outputs": [],
   "source": [
    "print(\"x =\", x)\n",
    "print(\"k =\", np.sign(x)*np.floor(np.abs(x)/Q_step).astype(np.int16))\n",
    "print(\"k =\", (x/Q_step).astype(np.int16))"
   ]
  },
  {
   "cell_type": "code",
   "execution_count": null,
   "metadata": {},
   "outputs": [],
   "source": [
    "x = np.array([127])\n",
    "Q_step = 128\n",
    "Q = deadzone.Deadzone_Quantizer(Q_step=Q_step, min_val=-128, max_val=127)\n",
    "k = Q.quantize(x)\n",
    "y = Q.dequantize(k)\n",
    "print(\"k =\", k)\n",
    "print(\"y =\", y)"
   ]
  },
  {
   "cell_type": "markdown",
   "metadata": {},
   "source": [
    "## Comparing Quantizers I/O"
   ]
  },
  {
   "cell_type": "code",
   "execution_count": null,
   "metadata": {},
   "outputs": [],
   "source": [
    "Q_step = 1 # Delta\n",
    "x = np.linspace(-8, 8, 500) # Input samples\n",
    "Q = midtread.Midtread_Quantizer(Q_step=Q_step, min_val=0, max_val=255)\n",
    "y_T, k_T = Q.quan_dequan(x)\n",
    "Q = midrise.Midrise_Quantizer(Q_step=Q_step, min_val=0, max_val=255)\n",
    "y_R, k_R = Q.quan_dequan(x)\n",
    "Q = deadzone.Deadzone_Quantizer(Q_step=Q_step, min_val=0, max_val=255)\n",
    "y_D, k_D = Q.quan_dequan(x)\n",
    "Q = companded.Companded_Quantizer(Q_step=Q_step, min_val=0, max_val=255)\n",
    "y_C, k_C = Q.quan_dequan(x)\n",
    "common.plot(x, y_T, \"Input Sample\", \"Reconstructed Sample\", \"Mid-tread Quantizer ($\\Delta={}$)\".format(Q_step))\n",
    "common.plot(x, y_R, \"Input Sample\", \"Reconstructed Sample\", \"Mid-rise Quantizer ($\\Delta={}$)\".format(Q_step))\n",
    "common.plot(x, y_D, \"Input Sample\", \"Reconstructed Sample\", \"Dead-zone Quantizer ($\\Delta={}$)\".format(Q_step))\n",
    "common.plot(x, y_C, \"Input Sample\", \"Reconstructed Sample\", \"Companded Dead-zone $\\mu$-Law Quantizer ($\\mu={}, \\Delta={}$)\".format(mu, Q_step))"
   ]
  },
  {
   "cell_type": "code",
   "execution_count": null,
   "metadata": {},
   "outputs": [],
   "source": [
    "error_T = x - y_T\n",
    "error_R = x - y_R\n",
    "error_D = x - y_D\n",
    "error_C = x - y_C\n",
    "common.plot(x, error_T, \"Input Sample\", \"Quantization Error\", \"Mid-tread Quantizer ($\\Delta={}$)\".format(Q_step))\n",
    "common.plot(x, error_R, \"Input Sample\", \"Quantization Error\", \"Mid-rise Quantizer ($\\Delta={}$)\".format(Q_step))\n",
    "common.plot(x, error_D, \"Input Sample\", \"Quantization Error\", \"Dead-zone Quantizer ($\\Delta={}$)\".format(Q_step))\n",
    "common.plot(x, error_C, \"Input Sample\", \"Quantization Error\", \"Companded Dead-zone $\\mu$-Law Quantizer ($\\mu={}, \\Delta={}$)\".format(mu, Q_step))"
   ]
  },
  {
   "cell_type": "code",
   "execution_count": null,
   "metadata": {},
   "outputs": [],
   "source": [
    "Q_step = 2\n",
    "x = np.linspace(-8, 8, 500)\n",
    "Q = midtread.Midtread_Quantizer(Q_step=Q_step, min_val=0, max_val=255)\n",
    "y_T, k_T = Q.quan_dequan(x)\n",
    "Q = midrise.Midrise_Quantizer(Q_step=Q_step, min_val=0, max_val=255)\n",
    "y_R, k_R = Q.quan_dequan(x)\n",
    "Q = deadzone.Deadzone_Quantizer(Q_step=Q_step, min_val=0, max_val=255)\n",
    "y_D, k_D = Q.quan_dequan(x)\n",
    "Q = companded.Companded_Quantizer(Q_step=Q_step, min_val=0, max_val=255)\n",
    "y_C, k_C = Q.quan_dequan(x)\n",
    "common.plot(x, y_T, \"Input Sample\", \"Reconstructed Sample\", \"Mid-tread Quantizer ($\\Delta={}$)\".format(Q_step))\n",
    "common.plot(x, y_R, \"Input Sample\", \"Reconstructed Sample\", \"Mid-rise Quantizer ($\\Delta={}$)\".format(Q_step))\n",
    "common.plot(x, y_D, \"Input Sample\", \"Reconstructed Sample\", \"Dead-zone Quantizer ($\\Delta={}$)\".format(Q_step))\n",
    "common.plot(x, y_C, \"Input Sample\", \"Reconstructed Sample\", \"Companded Dead-zone $\\mu$-Law Quantizer ($\\mu={}, \\Delta={}$)\".format(mu, Q_step))"
   ]
  },
  {
   "cell_type": "code",
   "execution_count": null,
   "metadata": {},
   "outputs": [],
   "source": [
    "error_T = x - y_T\n",
    "error_R = x - y_R\n",
    "error_D = x - y_D\n",
    "error_C = x - y_C\n",
    "common.plot(x, error_T, \"Input Sample\", \"Quantization Error\", \"Mid-tread Quantizer ($\\Delta={}$)\".format(Q_step))\n",
    "common.plot(x, error_R, \"Input Sample\", \"Quantization Error\", \"Mid-rise Quantizer ($\\Delta={}$)\".format(Q_step))\n",
    "common.plot(x, error_D, \"Input Sample\", \"Quantization Error\", \"Dead-zone Quantizer ($\\Delta={}$)\".format(Q_step))\n",
    "common.plot(x, error_C, \"Input Sample\", \"Quantization Error\", \"Companded Dead-zone $\\mu$-Law Quantizer ($\\mu={}, \\Delta={}$)\".format(mu, Q_step))"
   ]
  },
  {
   "cell_type": "code",
   "execution_count": null,
   "metadata": {},
   "outputs": [],
   "source": [
    "Q_step = 3\n",
    "x = np.linspace(-8, 8, 500)\n",
    "Q = midtread.Midtread_Quantizer(Q_step=Q_step, min_val=0, max_val=255)\n",
    "y_T, k_T = Q.quan_dequan(x)\n",
    "Q = midrise.Midrise_Quantizer(Q_step=Q_step, min_val=0, max_val=255)\n",
    "y_R, k_R = Q.quan_dequan(x)\n",
    "Q = deadzone.Deadzone_Quantizer(Q_step=Q_step, min_val=0, max_val=255)\n",
    "y_D, k_D = Q.quan_dequan(x)\n",
    "Q = companded.Companded_Quantizer(Q_step=Q_step, min_val=0, max_val=255)\n",
    "y_C, k_C = Q.quan_dequan(x)\n",
    "common.plot(x, y_T, \"Input Sample\", \"Reconstructed Sample\", \"Mid-tread Quantizer ($\\Delta={}$)\".format(Q_step))\n",
    "common.plot(x, y_R, \"Input Sample\", \"Reconstructed Sample\", \"Mid-rise Quantizer ($\\Delta={}$)\".format(Q_step))\n",
    "common.plot(x, y_D, \"Input Sample\", \"Reconstructed Sample\", \"Dead-zone Quantizer ($\\Delta={}$)\".format(Q_step))\n",
    "common.plot(x, y_C, \"Input Sample\", \"Reconstructed Sample\", \"Companded Dead-zone $\\mu$-Law Quantizer ($\\mu={}, \\Delta={}$)\".format(mu, Q_step))"
   ]
  },
  {
   "cell_type": "code",
   "execution_count": null,
   "metadata": {},
   "outputs": [],
   "source": [
    "error_T = x - y_T\n",
    "error_R = x - y_R\n",
    "error_D = x - y_D\n",
    "error_C = x - y_C\n",
    "common.plot(x, error_T, \"Input Sample\", \"Quantization Error\", \"Mid-tread Quantizer ($\\Delta={}$)\".format(Q_step))\n",
    "common.plot(x, error_R, \"Input Sample\", \"Quantization Error\", \"Mid-rise Quantizer ($\\Delta={}$)\".format(Q_step))\n",
    "common.plot(x, error_D, \"Input Sample\", \"Quantization Error\", \"Dead-zone Quantizer ($\\Delta={}$)\".format(Q_step))\n",
    "common.plot(x, error_C, \"Input Sample\", \"Quantization Error\", \"Companded Dead-zone $\\mu$-Law Quantizer ($\\mu={}, \\Delta={}$)\".format(mu, Q_step))"
   ]
  },
  {
   "cell_type": "code",
   "execution_count": null,
   "metadata": {},
   "outputs": [],
   "source": [
    "Q_step = 4\n",
    "x = np.linspace(-8, 8, 500)\n",
    "Q = midtread.Midtread_Quantizer(Q_step=Q_step, min_val=0, max_val=255)\n",
    "y_T, k_T = Q.quan_dequan(x)\n",
    "Q = midrise.Midrise_Quantizer(Q_step=Q_step, min_val=0, max_val=255)\n",
    "y_R, k_R = Q.quan_dequan(x)\n",
    "Q = deadzone.Deadzone_Quantizer(Q_step=Q_step, min_val=0, max_val=255)\n",
    "y_D, k_D = Q.quan_dequan(x)\n",
    "Q = companded.Companded_Quantizer(Q_step=Q_step, min_val=0, max_val=255)\n",
    "y_C, k_C = Q.quan_dequan(x)\n",
    "common.plot(x, y_T, \"Input Sample\", \"Reconstructed Sample\", \"Mid-tread Quantizer ($\\Delta={}$)\".format(Q_step))\n",
    "common.plot(x, y_R, \"Input Sample\", \"Reconstructed Sample\", \"Mid-rise Quantizer ($\\Delta={}$)\".format(Q_step))\n",
    "common.plot(x, y_D, \"Input Sample\", \"Reconstructed Sample\", \"Dead-zone Quantizer ($\\Delta={}$)\".format(Q_step))\n",
    "common.plot(x, y_C, \"Input Sample\", \"Reconstructed Sample\", \"Companded Dead-zone $\\mu$-Law Quantizer ($\\mu={}, \\Delta={}$)\".format(mu, Q_step))"
   ]
  },
  {
   "cell_type": "code",
   "execution_count": null,
   "metadata": {},
   "outputs": [],
   "source": [
    "error_T = x - y_T\n",
    "error_R = x - y_R\n",
    "error_D = x - y_D\n",
    "error_C = x - y_C\n",
    "common.plot(x, error_T, \"Input Sample\", \"Quantization Error\", \"Mid-tread Quantizer ($\\Delta={}$)\".format(Q_step))\n",
    "common.plot(x, error_R, \"Input Sample\", \"Quantization Error\", \"Mid-rise Quantizer ($\\Delta={}$)\".format(Q_step))\n",
    "common.plot(x, error_D, \"Input Sample\", \"Quantization Error\", \"Dead-zone Quantizer ($\\Delta={}$)\".format(Q_step))\n",
    "common.plot(x, error_C, \"Input Sample\", \"Quantization Error\", \"Companded Dead-zone $\\mu$-Law Quantizer ($\\mu={}, \\Delta={}$)\".format(mu, Q_step))"
   ]
  },
  {
   "cell_type": "code",
   "execution_count": null,
   "metadata": {},
   "outputs": [],
   "source": [
    "Q_step = 1024\n",
    "min_val = -32768\n",
    "max_val = 32767\n",
    "x = np.linspace(min_val, max_val, 500)\n",
    "Q = midtread.Midtread_Quantizer(Q_step=Q_step, min_val=min_val, max_val=max_val)\n",
    "y_T, k_T = Q.quan_dequan(x)\n",
    "Q = midrise.Midrise_Quantizer(Q_step=Q_step, min_val=min_val, max_val=max_val)\n",
    "y_R, k_R = Q.quan_dequan(x)\n",
    "Q = deadzone.Deadzone_Quantizer(Q_step=Q_step, min_val=min_val, max_val=max_val)\n",
    "y_D, k_D = Q.quan_dequan(x)\n",
    "Q = companded.Companded_Quantizer(Q_step=Q_step, min_val=min_val, max_val=max_val)\n",
    "y_C, k_C = Q.quan_dequan(x)\n",
    "common.plot(x, y_T, \"Input Sample\", \"Reconstructed Sample\", \"Mid-tread Quantizer ($\\Delta={}$)\".format(Q_step))\n",
    "common.plot(x, y_R, \"Input Sample\", \"Reconstructed Sample\", \"Mid-rise Quantizer ($\\Delta={}$)\".format(Q_step))\n",
    "common.plot(x, y_D, \"Input Sample\", \"Reconstructed Sample\", \"Dead-zone Quantizer ($\\Delta={}$)\".format(Q_step))\n",
    "common.plot(x, y_C, \"Input Sample\", \"Reconstructed Sample\", \"Companded Dead-zone $\\mu$-Law Quantizer ($\\mu={}, \\Delta={}$)\".format(mu, Q_step))"
   ]
  },
  {
   "cell_type": "code",
   "execution_count": null,
   "metadata": {},
   "outputs": [],
   "source": [
    "error_T = x - y_T\n",
    "error_R = x - y_R\n",
    "error_D = x - y_D\n",
    "error_C = x - y_C\n",
    "common.plot(x, error_T, \"Input Sample\", \"Quantization Error\", \"Mid-tread Quantizer ($\\Delta={}$)\".format(Q_step))\n",
    "common.plot(x, error_R, \"Input Sample\", \"Quantization Error\", \"Mid-rise Quantizer ($\\Delta={}$)\".format(Q_step))\n",
    "common.plot(x, error_D, \"Input Sample\", \"Quantization Error\", \"Dead-zone Quantizer ($\\Delta={}$)\".format(Q_step))\n",
    "common.plot(x, error_C, \"Input Sample\", \"Quantization Error\", \"Companded Dead-zone $\\mu$-Law Quantizer ($\\mu={}, \\Delta={}$)\".format(mu, Q_step))"
   ]
  },
  {
   "cell_type": "markdown",
   "metadata": {},
   "source": [
    "## Working with signed integers of 16 bits"
   ]
  },
  {
   "cell_type": "code",
   "execution_count": null,
   "metadata": {},
   "outputs": [],
   "source": [
    "Q_step = 1\n",
    "x = np.linspace(-32768, 32767, 65536).astype(np.int16)\n",
    "Q = midtread.Midtread_Quantizer(Q_step=Q_step, min_val=0, max_val=255)\n",
    "y_T, k_T = Q.quan_dequan(x)\n",
    "Q = midrise.Midrise_Quantizer(Q_step=Q_step, min_val=0, max_val=255)\n",
    "y_R, k_R = Q.quan_dequan(x)\n",
    "Q = deadzone.Deadzone_Quantizer(Q_step=Q_step, min_val=0, max_val=255)\n",
    "y_D, k_D = Q.quan_dequan(x)\n",
    "Q = companded.Companded_Quantizer(Q_step=Q_step, min_val=0, max_val=255)\n",
    "y_C, k_C = Q.quan_dequan(x)\n",
    "\n",
    "n = 16\n",
    "print(f\"{'Mid-tread':>20s} {'Mid-rise':>20s} {'Dead-zone':>20s} {'Companded Dead-zone':>20s}\")\n",
    "print(f\"{'Input':>6s} {'Output':>6s} {'Recons':>6s} {'Input':>6s} {'Output':>6s} {'Recons':>6s} {'Input':>6s} {'Output':>6s} {'Recons':>6s} {'Input':>6s} {'Output':>6s} {'Recons':>6s}\")\n",
    "offset = (len(x)-n)//2\n",
    "for i in range(n):\n",
    "    input = int(x[i+offset])\n",
    "    output_T = int(k_T[i+offset])\n",
    "    recons_T = int(y_T[i+offset])\n",
    "    print(f\"{input:>6d} {output_T:>6d} {recons_T:>6d}\", end='')\n",
    "    output_R = int(k_R[i+offset])\n",
    "    recons_R = int(y_R[i+offset])\n",
    "    print(f\" {input:>6d} {output_R:>6d} {recons_R:>6d}\", end='')\n",
    "    output_D = int(k_D[i+offset])\n",
    "    recons_D = int(y_D[i+offset])\n",
    "    print(f\" {input:>6d} {output_D:>6d} {recons_D:>6d}\", end='')\n",
    "    output_C = int(k_C[i+offset])\n",
    "    recons_C = int(y_C[i+offset])\n",
    "    print(f\" {input:>6d} {output_C:>6d} {recons_C:>6d}\")\n"
   ]
  },
  {
   "cell_type": "code",
   "execution_count": null,
   "metadata": {},
   "outputs": [],
   "source": [
    "Q_step = 2\n",
    "x = np.linspace(-32768, 32767, 65536).astype(np.int16)\n",
    "Q = midtread.Midtread_Quantizer(Q_step=Q_step, min_val=0, max_val=255)\n",
    "y_T, k_T = Q.quan_dequan(x)\n",
    "Q = midrise.Midrise_Quantizer(Q_step=Q_step, min_val=0, max_val=255)\n",
    "y_R, k_R = Q.quan_dequan(x)\n",
    "Q = deadzone.Deadzone_Quantizer(Q_step=Q_step, min_val=0, max_val=255)\n",
    "y_D, k_D = Q.quan_dequan(x)\n",
    "Q = companded.Companded_Quantizer(Q_step=Q_step, min_val=0, max_val=255)\n",
    "y_C, k_C = Q.quan_dequan(x)\n",
    "\n",
    "n = 16\n",
    "print(f\"{'Mid-tread':>20s} {'Mid-rise':>20s} {'Dead-zone':>20s} {'Companded Dead-zone':>20s}\")\n",
    "print(f\"{'Input':>6s} {'Output':>6s} {'Recons':>6s} {'Input':>6s} {'Output':>6s} {'Recons':>6s} {'Input':>6s} {'Output':>6s} {'Recons':>6s} {'Input':>6s} {'Output':>6s} {'Recons':>6s}\")\n",
    "offset = (len(x)-n)//2\n",
    "for i in range(n):\n",
    "    input = int(x[i+offset])\n",
    "    output_T = int(k_T[i+offset])\n",
    "    recons_T = int(y_T[i+offset])\n",
    "    print(f\"{input:>6d} {output_T:>6d} {recons_T:>6d}\", end='')\n",
    "    output_R = int(k_R[i+offset])\n",
    "    recons_R = int(y_R[i+offset])\n",
    "    print(f\" {input:>6d} {output_R:>6d} {recons_R:>6d}\", end='')\n",
    "    output_D = int(k_D[i+offset])\n",
    "    recons_D = int(y_D[i+offset])\n",
    "    print(f\" {input:>6d} {output_D:>6d} {recons_D:>6d}\", end='')\n",
    "    output_C = int(k_C[i+offset])\n",
    "    recons_C = int(y_C[i+offset])\n",
    "    print(f\" {input:>6d} {output_C:>6d} {recons_C:>6d}\")\n"
   ]
  },
  {
   "cell_type": "code",
   "execution_count": null,
   "metadata": {},
   "outputs": [],
   "source": [
    "Q_step = 32\n",
    "x = np.linspace(-32768, 32767, 65536).astype(np.int16)\n",
    "Q = midtread.Midtread_Quantizer(Q_step=Q_step, min_val=0, max_val=255)\n",
    "y_T, k_T = Q.quan_dequan(x)\n",
    "Q = midrise.Midrise_Quantizer(Q_step=Q_step, min_val=0, max_val=255)\n",
    "y_R, k_R = Q.quan_dequan(x)\n",
    "Q = deadzone.Deadzone_Quantizer(Q_step=Q_step, min_val=0, max_val=255)\n",
    "y_D, k_D = Q.quan_dequan(x)\n",
    "Q = companded.Companded_Quantizer(Q_step=Q_step, min_val=0, max_val=255)\n",
    "y_C, k_C = Q.quan_dequan(x)\n",
    "\n",
    "n = 16\n",
    "print(f\"{'Mid-tread':>20s} {'Mid-rise':>20s} {'Dead-zone':>20s} {'Companded Dead-zone':>20s}\")\n",
    "print(f\"{'Input':>6s} {'Output':>6s} {'Recons':>6s} {'Input':>6s} {'Output':>6s} {'Recons':>6s} {'Input':>6s} {'Output':>6s} {'Recons':>6s} {'Input':>6s} {'Output':>6s} {'Recons':>6s}\")\n",
    "offset = (len(x)-n)//2\n",
    "for i in range(n):\n",
    "    input = int(x[i+offset])\n",
    "    output_T = int(k_T[i+offset])\n",
    "    recons_T = int(y_T[i+offset])\n",
    "    print(f\"{input:>6d} {output_T:>6d} {recons_T:>6d}\", end='')\n",
    "    output_R = int(k_R[i+offset])\n",
    "    recons_R = int(y_R[i+offset])\n",
    "    print(f\" {input:>6d} {output_R:>6d} {recons_R:>6d}\", end='')\n",
    "    output_D = int(k_D[i+offset])\n",
    "    recons_D = int(y_D[i+offset])\n",
    "    print(f\" {input:>6d} {output_D:>6d} {recons_D:>6d}\", end='')\n",
    "    output_C = int(k_C[i+offset])\n",
    "    recons_C = int(y_C[i+offset])\n",
    "    print(f\" {input:>6d} {output_C:>6d} {recons_C:>6d}\")\n"
   ]
  },
  {
   "cell_type": "code",
   "execution_count": null,
   "metadata": {},
   "outputs": [],
   "source": []
  }
 ],
 "metadata": {
  "kernelspec": {
   "display_name": "Python 3 (ipykernel)",
   "language": "python",
   "name": "python3"
  },
  "language_info": {
   "codemirror_mode": {
    "name": "ipython",
    "version": 3
   },
   "file_extension": ".py",
   "mimetype": "text/x-python",
   "name": "python",
   "nbconvert_exporter": "python",
   "pygments_lexer": "ipython3",
   "version": "3.10.5"
  }
 },
 "nbformat": 4,
 "nbformat_minor": 2
}
